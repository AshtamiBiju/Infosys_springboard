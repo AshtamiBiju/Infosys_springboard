{
 "cells": [
  {
   "cell_type": "code",
   "execution_count": 2,
   "metadata": {
    "colab": {
     "base_uri": "https://localhost:8080/"
    },
    "id": "iUk7WJacIZnd",
    "outputId": "c111aba1-1596-4dfd-b8fe-4d46de39c36a"
   },
   "outputs": [
    {
     "name": "stdout",
     "output_type": "stream",
     "text": [
      "✅ Libraries installed and imported successfully.\n"
     ]
    }
   ],
   "source": [
    "# 0. INSTALL AND IMPORT LIBRARIES\n",
    "# ========================\n",
    "!pip install ipywidgets transformers torch sentencepiece huggingface_hub pypdf evaluate scikit-learn sentence-transformers matplotlib seaborn pandas nltk textstat rouge_score accelerate --quiet\n",
    "\n",
    "import os\n",
    "import warnings\n",
    "import time\n",
    "import io\n",
    "import numpy as np\n",
    "import pandas as pd\n",
    "import matplotlib.pyplot as plt\n",
    "import seaborn as sns\n",
    "import networkx as nx\n",
    "import nltk\n",
    "import textstat\n",
    "\n",
    "import ipywidgets as widgets\n",
    "from IPython.display import display, HTML\n",
    "\n",
    "import torch\n",
    "from huggingface_hub import login\n",
    "from transformers import AutoTokenizer, AutoModelForCausalLM, pipeline\n",
    "from sentence_transformers import SentenceTransformer\n",
    "from sklearn.metrics.pairwise import cosine_similarity\n",
    "import evaluate\n",
    "\n",
    "warnings.filterwarnings(\"ignore\")\n",
    "\n",
    "print(\"✅ Libraries installed and imported successfully.\")"
   ]
  },
  {
   "cell_type": "code",
   "execution_count": 14,
   "metadata": {
    "id": "6_E5ao4Fe_m_"
   },
   "outputs": [],
   "source": [
    "import warnings\n",
    "warnings.filterwarnings(\"ignore\")\n",
    "\n",
    "# Optional: disable Hugging Face's specific \"accelerate\" logs\n",
    "import logging\n",
    "logging.getLogger(\"transformers\").setLevel(logging.ERROR)\n",
    "logging.getLogger(\"accelerate\").setLevel(logging.ERROR)\n",
    "logging.getLogger(\"torch\").setLevel(logging.ERROR)\n"
   ]
  },
  {
   "cell_type": "code",
   "execution_count": 3,
   "metadata": {
    "colab": {
     "base_uri": "https://localhost:8080/",
     "height": 348,
     "referenced_widgets": [
      "0db3aa1a4bc24e48af1c9a3af4970e0f",
      "4e3b0808eaed47528fab21daaed261c9",
      "3487894e161c4a1e999b5198b01d35c0",
      "658dfc487d9a4649bb32738521885226",
      "973082863e4c449cbd762bbf491ba709",
      "5b02922db91543439e26394f3ef2fae8",
      "2f2b1c5a571a43279f57f47904a0b209",
      "909f2d9acd444d8380f5506920049aa6",
      "e6a322aea9bf419197395ee872f26741",
      "e846f9e1773e4a589f4acfcc05a3eb54",
      "f09194e232fa492985ee8e5a992b6094",
      "4f3a1c9594ae4d749535a8c0176daa3b",
      "d00c602bbcaa4401abad2f3aade1a016",
      "4a5f86a41266442189fa04695b2224ba",
      "e2daf71eb36b49b49731d55fe81f8d6e",
      "ec218c65d1ef4251ab95924ac8053a58",
      "6a1a11b8b216492696c853bcf656e5fc"
     ]
    },
    "id": "drrEa6a5PPVd",
    "outputId": "0e95c98e-0fbc-4ffa-c259-c01fec722fad"
   },
   "outputs": [
    {
     "data": {
      "application/vnd.jupyter.widget-view+json": {
       "model_id": "0db3aa1a4bc24e48af1c9a3af4970e0f",
       "version_major": 2,
       "version_minor": 0
      },
      "text/plain": [
       "VBox(children=(HTML(value='<center> <img\\nsrc=https://huggingface.co/front/assets/huggingface_logo-noborder.sv…"
      ]
     },
     "metadata": {},
     "output_type": "display_data"
    },
    {
     "name": "stdout",
     "output_type": "stream",
     "text": [
      "✅ Hugging Face Hub login successful.\n"
     ]
    }
   ],
   "source": [
    "# 1. HUGGING FACE AUTHENTICATION\n",
    "# ========================\n",
    "try:\n",
    "    HF_TOKEN = os.environ.get('HF_TOKEN')  # Or Colab secret\n",
    "    login(token=HF_TOKEN)\n",
    "    print(\"✅ Hugging Face Hub login successful.\")\n",
    "except Exception as e:\n",
    "    print(f\"🛑 Hugging Face login failed. Ensure HF_TOKEN is set.\")\n",
    "    print(e)"
   ]
  },
  {
   "cell_type": "code",
   "execution_count": 4,
   "metadata": {
    "id": "ekhHjh9zPTkT"
   },
   "outputs": [],
   "source": [
    "# 2. DOWNLOAD NLTK DATA\n",
    "# ========================\n",
    "try:\n",
    "    nltk.download('punkt', quiet=True)\n",
    "except Exception as e:\n",
    "    print(f\"Error downloading NLTK data: {e}\")"
   ]
  },
  {
   "cell_type": "code",
   "execution_count": 15,
   "metadata": {
    "colab": {
     "base_uri": "https://localhost:8080/",
     "height": 116,
     "referenced_widgets": [
      "44a2cb6842dd485fa56146ec1ba2a364",
      "dba046c57180495dbf33d39a0d272396",
      "33c289d3d93f4168a5ae419e271b12f3",
      "47d36d0b064847539dc16543183e8117",
      "31f8aaab8f024313a3cfd1b571ca3cfe",
      "1fcfbf6503944985a9159b1f0ef296a4",
      "7b524ac572ea4be59d805f886a9ed507",
      "6ff44596ec8e47628182a18e1a8f2287",
      "e1bae64de2b740ca84d82e153b28f1ec",
      "af6d0ecba47745feacb5b30c55de051e",
      "28670cb1e8724c3793406765cdacf1f7",
      "a5d1840f826d4df8b390a0a01eea6f7b",
      "85f674d303094fb9b2ebf456497ce913",
      "50821c01902040e8bbbf74b3b62e1315",
      "42c02326817141b59d29f0fb7bcba261",
      "0bd3784c3996471fb5e4d21128a7dffb",
      "c4dc9e0668e043e1984ca2c4255d15af",
      "4c7bf5caa8f24bc29d8b4cb484ef925d",
      "684a254262ec4330918b9f442939943d",
      "adc769fcf5854e7fbbf57c075517d6bf",
      "617c26a9b355459ca1507b9cc0d6d10f",
      "93ab6a9c228348ca96011fbf821f37f2"
     ]
    },
    "id": "-EMy40miPXP4",
    "outputId": "408fc3a8-6fb6-45fd-88cb-82b6ea2bdabb"
   },
   "outputs": [
    {
     "name": "stdout",
     "output_type": "stream",
     "text": [
      "Using device: cpu\n"
     ]
    },
    {
     "data": {
      "application/vnd.jupyter.widget-view+json": {
       "model_id": "44a2cb6842dd485fa56146ec1ba2a364",
       "version_major": 2,
       "version_minor": 0
      },
      "text/plain": [
       "Loading checkpoint shards:   0%|          | 0/2 [00:00<?, ?it/s]"
      ]
     },
     "metadata": {},
     "output_type": "display_data"
    },
    {
     "data": {
      "application/vnd.jupyter.widget-view+json": {
       "model_id": "a5d1840f826d4df8b390a0a01eea6f7b",
       "version_major": 2,
       "version_minor": 0
      },
      "text/plain": [
       "Loading checkpoint shards:   0%|          | 0/2 [00:00<?, ?it/s]"
      ]
     },
     "metadata": {},
     "output_type": "display_data"
    },
    {
     "name": "stdout",
     "output_type": "stream",
     "text": [
      "🎉 All models loaded successfully!\n"
     ]
    }
   ],
   "source": [
    "# 3. LOAD MODELS\n",
    "# ========================\n",
    "device = \"cuda\" if torch.cuda.is_available() else \"cpu\"\n",
    "print(f\"Using device: {device}\")\n",
    "\n",
    "MODELS = {}\n",
    "rouge_metric = evaluate.load(\"rouge\")\n",
    "\n",
    "# TinyLlama\n",
    "model_id_tiny = \"TinyLlama/TinyLlama-1.1B-Chat-v1.0\"\n",
    "MODELS['tinyllama'] = {'tokenizer': AutoTokenizer.from_pretrained(model_id_tiny),\n",
    "                       'model': AutoModelForCausalLM.from_pretrained(model_id_tiny, torch_dtype=torch.bfloat16, device_map=\"auto\"),\n",
    "                       'name': \"TinyLlama-1.1B-Chat\"}\n",
    "\n",
    "# Phi\n",
    "model_id_phi = \"microsoft/phi-2\"\n",
    "MODELS['phi'] = {'tokenizer': AutoTokenizer.from_pretrained(model_id_phi, trust_remote_code=True),\n",
    "                 'model': AutoModelForCausalLM.from_pretrained(model_id_phi, torch_dtype=torch.bfloat16, device_map=\"auto\", trust_remote_code=True),\n",
    "                 'name': \"Phi-2\"}\n",
    "\n",
    "# BART\n",
    "model_id_bart = \"facebook/bart-large-cnn\"\n",
    "MODELS['bart'] = {'summarizer': pipeline(\"summarization\", model=model_id_bart, device=0 if device==\"cuda\" else -1),\n",
    "                  'name': 'BART-Large-CNN'}\n",
    "\n",
    "# Gemma\n",
    "model_id_gemma = \"google/gemma-2b-it\"\n",
    "MODELS['gemma'] = {'tokenizer': AutoTokenizer.from_pretrained(model_id_gemma, token=HF_TOKEN),\n",
    "                   'model': AutoModelForCausalLM.from_pretrained(model_id_gemma, torch_dtype=torch.bfloat16, device_map=\"auto\", token=HF_TOKEN),\n",
    "                   'name': \"Gemma-2B-IT\"}\n",
    "\n",
    "# TextRank embeddings\n",
    "MODELS['embedding'] = {'model': SentenceTransformer('all-MiniLM-L6-v2', device=device),\n",
    "                       'name': 'TextRank (Embeddings)'}\n",
    "\n",
    "print(\"🎉 All models loaded successfully!\")"
   ]
  },
  {
   "cell_type": "code",
   "execution_count": 16,
   "metadata": {
    "colab": {
     "base_uri": "https://localhost:8080/",
     "height": 49,
     "referenced_widgets": [
      "504619d4277c460c827425e988d78fe9",
      "abac5d51878f42f59ba039d127a90756",
      "95d4627b8ce84fde9a59b13e0f47b571",
      "2edff8974c4e4526962e2df402232a8d",
      "b7f8f888045647eb9636fcc51f7e846e",
      "6b7cd70e992540a68fc2bee7e828a2e5",
      "f67188f1ac4e40bda9234c8bc988886c",
      "42fad30619744cc69fccf48b625fe239",
      "dc82d4d8a5584f92ad744fd7f4f3abcc",
      "1b5e49caa9a246f1861a559d728dd793",
      "9d840ad65f4c4384bbf55b5e6433878d"
     ]
    },
    "id": "vYs6gqM8WN4H",
    "outputId": "c39bdb3b-3188-4bca-e688-8207d9f4f2e9"
   },
   "outputs": [
    {
     "data": {
      "application/vnd.jupyter.widget-view+json": {
       "model_id": "504619d4277c460c827425e988d78fe9",
       "version_major": 2,
       "version_minor": 0
      },
      "text/plain": [
       "Loading checkpoint shards:   0%|          | 0/2 [00:00<?, ?it/s]"
      ]
     },
     "metadata": {},
     "output_type": "display_data"
    }
   ],
   "source": [
    "# Gemma\n",
    "model_id_gemma = \"google/gemma-2b-it\"\n",
    "MODELS['gemma'] = {'tokenizer': AutoTokenizer.from_pretrained(model_id_gemma, token=HF_TOKEN),\n",
    "                   'model': AutoModelForCausalLM.from_pretrained(model_id_gemma, torch_dtype=torch.bfloat16, device_map=\"auto\", token=HF_TOKEN),\n",
    "                   'name': \"Gemma-2B-IT\"}"
   ]
  },
  {
   "cell_type": "code",
   "execution_count": 7,
   "metadata": {
    "id": "8aUgaNFePdU6"
   },
   "outputs": [],
   "source": [
    "# 4. SUMMARIZATION FUNCTIONS\n",
    "# ========================\n",
    "def generate_with_chat_template_model(model_key, prompt, max_new_tokens=250):\n",
    "    tokenizer = MODELS[model_key]['tokenizer']\n",
    "    model = MODELS[model_key]['model']\n",
    "\n",
    "    # Some tokenizers may not have apply_chat_template; fallback to simple prompt\n",
    "    if hasattr(tokenizer, 'apply_chat_template'):\n",
    "        chat = [{\"role\": \"user\", \"content\": prompt}]\n",
    "        formatted_prompt = tokenizer.apply_chat_template(chat, tokenize=False, add_generation_prompt=True)\n",
    "    else:\n",
    "        formatted_prompt = prompt\n",
    "\n",
    "    inputs = tokenizer.encode(formatted_prompt, add_special_tokens=True, return_tensors=\"pt\").to(model.device)\n",
    "    outputs = model.generate(input_ids=inputs, max_new_tokens=max_new_tokens)\n",
    "    return tokenizer.decode(outputs[0][len(inputs[0]):], skip_special_tokens=True)\n",
    "\n",
    "def generate_with_instruct_model(model_key, prompt, max_new_tokens=250):\n",
    "    tokenizer = MODELS[model_key]['tokenizer']\n",
    "    model = MODELS[model_key]['model']\n",
    "    inputs = tokenizer(prompt, return_tensors=\"pt\").to(model.device)\n",
    "    outputs = model.generate(**inputs, max_new_tokens=max_new_tokens)\n",
    "    decoded_output = tokenizer.batch_decode(outputs, skip_special_tokens=True)[0]\n",
    "    if \"Output:\" in decoded_output:\n",
    "        return decoded_output.split(\"Output:\")[1].strip()\n",
    "    return decoded_output\n",
    "\n",
    "def summarize_abstractive(text, model_key, max_len=200, min_len=50):\n",
    "    if model_key == 'tinyllama':\n",
    "        prompt = f\"Provide a concise, abstractive summary of the following text:\\n\\n{text[:2000]}\"\n",
    "        return generate_with_chat_template_model(model_key, prompt, max_new_tokens=max_len)\n",
    "    elif model_key == 'phi':\n",
    "        prompt = f\"Instruct: Summarize the following text concisely.\\n{text[:2000]}\\nOutput:\"\n",
    "        return generate_with_instruct_model(model_key, prompt, max_new_tokens=max_len)\n",
    "    elif model_key == 'bart':\n",
    "        return MODELS['bart']['summarizer'](text[:4096], max_length=max_len, min_length=min_len, do_sample=False)[0]['summary_text']\n",
    "    return \"Unsupported model.\"\n",
    "\n",
    "def summarize_extractive(text, model_key, num_sentences=5):\n",
    "    if model_key in ['tinyllama', 'phi']:\n",
    "        return summarize_abstractive(text, model_key, max_len=num_sentences*50)\n",
    "    elif model_key == 'embedding':\n",
    "        try:\n",
    "            sentences = nltk.sent_tokenize(text)\n",
    "            if len(sentences) <= num_sentences: return \"\\n\".join(sentences)\n",
    "            embeddings = MODELS['embedding']['model'].encode(sentences, convert_to_tensor=True)\n",
    "            sim_matrix = cosine_similarity(embeddings.cpu().numpy())\n",
    "            graph = nx.from_numpy_array(sim_matrix)\n",
    "            scores = nx.pagerank(graph)\n",
    "            ranked_sentences = sorted(((scores[i], s) for i, s in enumerate(sentences)), reverse=True)\n",
    "            return \"\\n\".join([s for _, s in ranked_sentences[:num_sentences]])\n",
    "        except Exception as e:\n",
    "            return f\"TextRank failed: {e}\"\n",
    "    return \"Unsupported model.\""
   ]
  },
  {
   "cell_type": "code",
   "execution_count": 8,
   "metadata": {
    "id": "bg3-tv7RPnMz"
   },
   "outputs": [],
   "source": [
    "# 5. METRICS AND VISUALIZATION\n",
    "# ========================\n",
    "def calculate_metrics(summary, original_text, processing_time):\n",
    "    embedding_model = MODELS['embedding']['model']\n",
    "    embeddings = embedding_model.encode([original_text, summary])\n",
    "    semantic_sim = cosine_similarity([embeddings[0]], [embeddings[1]])[0][0]\n",
    "    rouge_scores = rouge_metric.compute(predictions=[summary], references=[original_text])\n",
    "    return {\n",
    "        \"ROUGE-1\": round(rouge_scores['rouge1'], 3),\n",
    "        \"ROUGE-2\": round(rouge_scores['rouge2'], 3),\n",
    "        \"Semantic Similarity\": round(semantic_sim, 3),\n",
    "        \"Readability\": round(textstat.flesch_reading_ease(summary), 2),\n",
    "        \"Length (words)\": len(summary.split()),\n",
    "        \"Time (sec)\": round(processing_time, 2),\n",
    "        \"Compression\": f\"{(1 - (len(summary.split()) / len(original_text.split()))) * 100:.1f}%\" if len(original_text.split()) > 0 else \"N/A\"\n",
    "    }\n"
   ]
  },
  {
   "cell_type": "code",
   "execution_count": 9,
   "metadata": {
    "colab": {
     "base_uri": "https://localhost:8080/"
    },
    "id": "RK42BuIhPtEh",
    "outputId": "03e3d4c0-835f-4c9f-9404-def8ce4864f2"
   },
   "outputs": [
    {
     "name": "stdout",
     "output_type": "stream",
     "text": [
      "✅ Backend ready: Summarization, metrics, visualizations.\n"
     ]
    }
   ],
   "source": [
    "# 6. VISUALIZATION FUNCTIONS\n",
    "# ========================\n",
    "def create_bar_charts(metrics_df):\n",
    "    if metrics_df.empty: return None\n",
    "    df_sorted = metrics_df.sort_values(by=['Model']).reset_index(drop=True)\n",
    "    fig, axes = plt.subplots(1, 3, figsize=(20, 6))\n",
    "    fig.suptitle('📊 Model Performance Comparison', fontsize=18, fontweight='bold')\n",
    "    colors = sns.color_palette(\"tab10\", n_colors=len(df_sorted['Model'].unique()))\n",
    "\n",
    "    sns.barplot(data=df_sorted, x='Model', y='ROUGE-1', ax=axes[0], palette=colors).tick_params(axis='x', rotation=45)\n",
    "    axes[0].set_title('ROUGE-1 Score', fontsize=14, fontweight='bold')\n",
    "\n",
    "    sns.barplot(data=df_sorted, x='Model', y='Semantic Similarity', ax=axes[1], palette=colors).tick_params(axis='x', rotation=45)\n",
    "    axes[1].set_title('Semantic Similarity', fontsize=14, fontweight='bold')\n",
    "\n",
    "    sns.barplot(data=df_sorted, x='Model', y='Time (sec)', ax=axes[2], palette=colors).tick_params(axis='x', rotation=45)\n",
    "    axes[2].set_title('Processing Time (seconds)', fontsize=14, fontweight='bold')\n",
    "\n",
    "    for ax in axes:\n",
    "        ax.set_facecolor('#f9f9f9')\n",
    "        ax.grid(True, linestyle='--', alpha=0.5)\n",
    "\n",
    "    plt.tight_layout(rect=[0, 0.03, 1, 0.95])\n",
    "    return fig\n",
    "\n",
    "def create_radar_chart(metrics_df):\n",
    "    if metrics_df.empty: return None\n",
    "    metrics_to_plot = ['ROUGE-1', 'Semantic Similarity', 'Readability']\n",
    "    df_radar = metrics_df.copy()\n",
    "    df_radar['Readability'] = np.clip(df_radar['Readability'] / 100.0, 0, 1)\n",
    "    df_avg = df_radar.groupby('Model')[metrics_to_plot].mean().reset_index()\n",
    "\n",
    "    labels, num_vars = df_avg.columns[1:], len(df_avg.columns[1:])\n",
    "    angles = np.linspace(0, 2 * np.pi, num_vars, endpoint=False).tolist() + [0]\n",
    "\n",
    "    fig, ax = plt.subplots(figsize=(8, 8), subplot_kw=dict(polar=True))\n",
    "    colors = sns.color_palette(\"Set2\", n_colors=len(df_avg))\n",
    "\n",
    "    for i, row in df_avg.iterrows():\n",
    "        values = row.drop('Model').tolist() + [row.drop('Model').tolist()[0]]\n",
    "        ax.plot(angles, values, label=row['Model'], linewidth=2.5, color=colors[i])\n",
    "        ax.fill(angles, values, alpha=0.3, color=colors[i])\n",
    "\n",
    "    ax.set_yticklabels([])\n",
    "    ax.set_xticks(angles[:-1])\n",
    "    ax.set_xticklabels(labels, fontsize=12, fontweight='bold')\n",
    "    ax.grid(color='gray', linestyle='--', linewidth=0.7, alpha=0.6)\n",
    "    plt.legend(loc='upper right', bbox_to_anchor=(1.3, 1.1))\n",
    "    ax.set_title(\"✨ Multi-Metric Model Comparison\", size=16, fontweight='bold', y=1.1)\n",
    "    return fig\n",
    "\n",
    "print(\"✅ Backend ready: Summarization, metrics, visualizations.\")"
   ]
  },
  {
   "cell_type": "code",
   "execution_count": 10,
   "metadata": {
    "colab": {
     "base_uri": "https://localhost:8080/",
     "height": 706,
     "referenced_widgets": [
      "2940215320ce487fa6431e4055233640",
      "9bd962a8e12c4388a044cfcc8bd0c685",
      "070d1c5299ce49dc945490c933b3ac4b",
      "c198b6d7beed472abe88572ffc7afa5a",
      "35be5b20c548412b87a91b29541fd05b",
      "fa9d3084d1f5440a8a7ea27553fddff3",
      "6adc82c7736c4b06a137d972d63dc5da",
      "096bfeb70a2b47c7962dcebd9575e0b6",
      "5485fd7298be4ad2959407c54f762a40",
      "8e78e489ac054f598e5666ae382e10c3",
      "22205c5de33143ecbb0b7d1ef22fa143",
      "67d7fcd537154216bc71e82ec6b555e2",
      "3c9a935f9e4c4a4ab28d4c34f38f441e",
      "ef2efc7f5c1a426db757e36568bec4d7",
      "3f6a6d860397438787f8c55cd422303a",
      "ae1b1ab7335d4d19b2b3580c1efc949d",
      "8174c75de005469faac6dcde8e8e9512",
      "b2cf800811b34d34b8b0d55523f0542b",
      "f45f2b68af0c4b1a90bd1f6f6e379c36",
      "b715f50890494043a75a3e20e3570545",
      "bbe19c30bf2b4fb08368ed117b5afbd2",
      "d8d5c89699144826aacc6e17c8a19648",
      "438e06e7718f474197c75461fc2d4a0e",
      "29f0849112034768aa8175111d46ad92",
      "1613a0801e0b43e3869da93d808b5b8e",
      "5fb1f0a364ec45c0b99517c1a8a1063f",
      "cc23e9a43c434bbb8794fbf2db1e8284",
      "3bc700de2db0424a91feffdb1db5d9e2",
      "91213fc13eea48a6adfd16a6882d8652",
      "c124f7e424d741159d651b12a546f90e",
      "18458960452b4e1396405dca0a4d9336",
      "5c6e968cc79e4755809affa57db22108",
      "e4f6e070e7484f498e50faf84faaa2f3",
      "2369ba3ec1054c00a5ee1d912bb47d3c",
      "a5f7141865144d5e9e863b27ef8bf24c",
      "0cb255f2c3f94b34bd4b7ba441005bfe",
      "3aed96ddfea741d288f78089a75b3b13",
      "14831d709c664480ba0b9963fb8690d8"
     ]
    },
    "id": "Ot8kRQ5UNhLp",
    "outputId": "d5c21eb0-199c-498d-ab85-4bd28b06ec13"
   },
   "outputs": [
    {
     "data": {
      "application/vnd.jupyter.widget-view+json": {
       "model_id": "2940215320ce487fa6431e4055233640",
       "version_major": 2,
       "version_minor": 0
      },
      "text/plain": [
       "VBox(children=(HTML(value='<h2>Section A: Summarize with All Models</h2><p>Paste text or load dataset. All com…"
      ]
     },
     "metadata": {},
     "output_type": "display_data"
    }
   ],
   "source": [
    "# 7. INTERACTIVE UI SECTIONS\n",
    "# ========================\n",
    "# Here you can reuse your previous UI code for:\n",
    "# - Section A: Summarize with All Models\n",
    "# - Section B: Summarize with Specific Models\n",
    "# Just connect them with these new plot functions and updated MODELS dictionary\n",
    "# 8. INTERACTIVE UI - SECTION A: ALL MODELS\n",
    "# ========================\n",
    "\n",
    "metrics_history_all = []\n",
    "\n",
    "# Model choices\n",
    "abstractive_models = [k for k in ['tinyllama','phi','bart','gemma']]\n",
    "extractive_models = [k for k in ['tinyllama','phi','gemma','embedding']]\n",
    "\n",
    "header_all = widgets.HTML(\"<h2>Section A: Summarize with All Models</h2><p>Paste text or load dataset. All compatible models will run automatically.</p>\")\n",
    "text_input_all = widgets.Textarea(placeholder=\"Paste your text here...\", layout={'width':'99%','height':'180px'})\n",
    "summary_type_all = widgets.RadioButtons(options=['Abstractive','Extractive'], value='Abstractive', description='Type:')\n",
    "generate_button_all = widgets.Button(description='🚀 Generate All Summaries', button_style='primary')\n",
    "clear_button_all = widgets.Button(description='🧹 Clear Outputs', button_style='warning')\n",
    "load_dataset_button = widgets.FileUpload(accept=\".txt,.csv\", multiple=False, description=\"📂 Load External Text\")\n",
    "\n",
    "summary_output_all = widgets.Output(layout={'height':'400px','border':'1px solid #ccc','padding':'10px','overflow':'scroll'})\n",
    "metrics_table_output_all = widgets.Output()\n",
    "bar_plot_output_all = widgets.Output()\n",
    "radar_plot_output_all = widgets.Output()\n",
    "output_accordion_all = widgets.Accordion(children=[metrics_table_output_all, bar_plot_output_all, radar_plot_output_all])\n",
    "output_accordion_all.set_title(0,'📊 Metrics Table')\n",
    "output_accordion_all.set_title(1,'📈 Bar Charts')\n",
    "output_accordion_all.set_title(2,'✨ Radar Plot')\n",
    "\n",
    "def get_text_from_file(uploaded_file):\n",
    "    try:\n",
    "        for name, file_info in uploaded_file.items():\n",
    "            if name.endswith(\".txt\"):\n",
    "                return file_info['content'].decode(\"utf-8\")\n",
    "            elif name.endswith(\".csv\"):\n",
    "                df = pd.read_csv(io.BytesIO(file_info['content']))\n",
    "                return \" \".join(df.iloc[:,0].astype(str).tolist())\n",
    "    except:\n",
    "        return \"\"\n",
    "\n",
    "def on_generate_all(b):\n",
    "    generate_button_all.disabled = True\n",
    "    generate_button_all.description = \"Processing...\"\n",
    "    text = text_input_all.value.strip()\n",
    "    if not text:\n",
    "        with summary_output_all: print(\"⚠️ Please paste text or load dataset.\")\n",
    "        generate_button_all.disabled = False\n",
    "        generate_button_all.description = \"🚀 Generate All Summaries\"\n",
    "        return\n",
    "    s_type = summary_type_all.value\n",
    "    model_keys = abstractive_models if s_type=='Abstractive' else extractive_models\n",
    "\n",
    "    with summary_output_all: summary_output_all.clear_output()\n",
    "    with summary_output_all: display(HTML(f\"<hr><h3>Processing Text ({s_type})</h3>\"))\n",
    "\n",
    "    for mk in model_keys:\n",
    "        model_name = MODELS[mk]['name']\n",
    "        with summary_output_all: print(f\"⏳ Summarizing with {model_name}...\")\n",
    "        start = time.time()\n",
    "        summary = summarize_abstractive(text, mk) if s_type=='Abstractive' else summarize_extractive(text, mk)\n",
    "        elapsed = time.time() - start\n",
    "        with summary_output_all: display(HTML(f\"<h4>{model_name}</h4><p>{summary}</p>\"))\n",
    "        metrics = calculate_metrics(summary, text, elapsed)\n",
    "        metrics.update({'Model': model_name,'File':'Pasted Text','Type':s_type})\n",
    "        metrics_history_all.append(metrics)\n",
    "\n",
    "    df = pd.DataFrame(metrics_history_all)\n",
    "    with metrics_table_output_all: metrics_table_output_all.clear_output(wait=True); display(df)\n",
    "    with bar_plot_output_all: bar_plot_output_all.clear_output(wait=True); display(create_bar_charts(df))\n",
    "    with radar_plot_output_all: radar_plot_output_all.clear_output(wait=True); display(create_radar_chart(df))\n",
    "    generate_button_all.disabled = False\n",
    "    generate_button_all.description = \"🚀 Generate All Summaries\"\n",
    "\n",
    "def on_clear_all(b):\n",
    "    global metrics_history_all\n",
    "    metrics_history_all=[]\n",
    "    summary_output_all.clear_output()\n",
    "    metrics_table_output_all.clear_output()\n",
    "    bar_plot_output_all.clear_output()\n",
    "    radar_plot_output_all.clear_output()\n",
    "    text_input_all.value=\"\"\n",
    "\n",
    "def on_file_upload(change):\n",
    "    text_input_all.value = get_text_from_file(change['new'])\n",
    "\n",
    "generate_button_all.on_click(on_generate_all)\n",
    "clear_button_all.on_click(on_clear_all)\n",
    "load_dataset_button.observe(on_file_upload, names='value')\n",
    "\n",
    "input_box_all = widgets.VBox([text_input_all, summary_type_all, widgets.HBox([generate_button_all, clear_button_all]), load_dataset_button], layout=widgets.Layout(width='35%', padding='10px', border='1px solid lightgrey', border_radius='5px'))\n",
    "output_box_all = widgets.VBox([summary_output_all, output_accordion_all], layout=widgets.Layout(width='65%', padding='10px'))\n",
    "app_all = widgets.VBox([header_all, widgets.HBox([input_box_all, output_box_all])])\n",
    "display(app_all)\n"
   ]
  },
  {
   "cell_type": "code",
   "execution_count": 17,
   "metadata": {
    "colab": {
     "base_uri": "https://localhost:8080/",
     "height": 706,
     "referenced_widgets": [
      "1108836fa8a04430ab20a09d0b1186d9",
      "0918e68dbd994d6aaeda5bf75dc2c034",
      "e6542717a23a4183af862f5bb9a8de04",
      "00366d445e8f43d4b94da3f9a1f13951",
      "0755f78cdffb4e138ff2c7309155d20f",
      "b980b27c7ad54189a820e311d78dc3d3",
      "e056db7177d542fca2ede07b0ac4d4cc",
      "e169af8f04884ae98e9f8c6a1f8a0384",
      "11f46d9958ca4eed91310b0443ce2944",
      "370e4683353b4396b9e6a6a0324608d5",
      "13fecf7342a7471cadcd2ec14c925ef8",
      "15007907e32443fcb560e09e439ac849",
      "b99a8c80a9434e8fb8d1532e3bf38326",
      "a953761f2a8b4651987821e141c4ec8d",
      "200cbe19610f44f0b308fcf8e3331bfd",
      "77d13e416f8b4e8cbe0d9fb5c00f9948",
      "3b821d544c834693b22edcec776ce91c",
      "ebb9fbf91ba447998dcd3cafe97e0b51",
      "3878e233db8c4e529ccc80c9ccc96a2b",
      "8836ccdc25844e48bef487c359c3cd61",
      "9c35ab1c04ef4207af15300d141feb73",
      "49d7d8f65eeb4bcbb2761d164e3c0f55",
      "aa453895fe8b4f2b82c5b7db0a24e4e9",
      "08e6a6cc1788403fbd4fc289fa6b67d2",
      "867e93412f7840c699ba9ee220b5f505",
      "67afd69d94784cdf8ee3c37768c2dae2",
      "a76af5eb3ba7494aabca2d2302fbe9da",
      "9f340480ef2342b4be490e1ec0a2eb8f",
      "0efd0faef10945ae881d96b43eff7f45",
      "f8ad8eaabc5e480bb5512e74de9876cd",
      "e3acca6d9a194b7b89f9efd5d50f51f4",
      "83ea808aa3294f22a6c9c67dc6a98da2",
      "8e1fc9e9e68549cf9e3dbf6ff5cb099a",
      "128bb0a705db4f68be0786d7408021e5",
      "f2f79616e35341979aefa939b84f52c0",
      "78a519ca9d624d0bb126e0390af92bc0",
      "9da18417d4464f21a32cc940102a0553",
      "065b082833304abe95a41145f65946e5",
      "c6e22bd4741f419da8d9b727e45f5f10",
      "8b69e962edfa45b389f2433edde4143c",
      "209e3b45e98641ae96cf06af457d1120",
      "f3d47de92cd540eb81add24cb951c92b",
      "208a6d2cd82f45fdbe2b8331fef5a1ca",
      "9ef18b8da28541d0afc533f5f824131a",
      "8c435f740d6b4acf9082e5ac11a20dde",
      "97223c718c29449db39113c751885b04",
      "d08e6ed0a9e34ce88b1208d2cfa2845a",
      "820d5504d2774aa19bc9ade87da42f11",
      "4572735f11464744aedd14999d11ec8c",
      "690c8481f1e941b492e76cdba8e5cf7b",
      "0b21ee9ae0b2439d8e88d495e58bddbd",
      "833016f2f1524a29b1f3064129255672",
      "d219816dbb854c918b044e2e861cee7f",
      "b14d60793b24485daf4207b93b04a47b"
     ]
    },
    "id": "qIVzRR6aN2Q7",
    "outputId": "70109b77-4939-407e-fa61-904a7e3b579a"
   },
   "outputs": [
    {
     "data": {
      "application/vnd.jupyter.widget-view+json": {
       "model_id": "1108836fa8a04430ab20a09d0b1186d9",
       "version_major": 2,
       "version_minor": 0
      },
      "text/plain": [
       "VBox(children=(HTML(value='<h2>Section B: Summarize with Specific Models</h2><p>Paste text, choose summary typ…"
      ]
     },
     "metadata": {},
     "output_type": "display_data"
    }
   ],
   "source": [
    "# 9. INTERACTIVE UI - SECTION B: SPECIFIC MODELS\n",
    "# ========================\n",
    "\n",
    "metrics_history_specific = []\n",
    "checkboxes = {}\n",
    "\n",
    "header_specific = widgets.HTML(\"<h2>Section B: Summarize with Specific Models</h2><p>Paste text, choose summary type, select models.</p>\")\n",
    "text_input_specific = widgets.Textarea(placeholder=\"Paste text here...\", layout={'width':'99%','height':'180px'})\n",
    "summary_type_specific = widgets.RadioButtons(options=['Abstractive','Extractive'], value='Abstractive')\n",
    "model_checkboxes_out = widgets.Output()\n",
    "generate_button_specific = widgets.Button(description='🚀 Generate Summaries', button_style='primary')\n",
    "clear_button_specific = widgets.Button(description='🧹 Clear Outputs', button_style='warning')\n",
    "\n",
    "summary_output_specific = widgets.Output(layout={'height':'400px','border':'1px solid #ccc','padding':'10px','overflow':'scroll'})\n",
    "metrics_table_output_specific = widgets.Output()\n",
    "bar_plot_output_specific = widgets.Output()\n",
    "radar_plot_output_specific = widgets.Output()\n",
    "output_accordion_specific = widgets.Accordion(children=[metrics_table_output_specific, bar_plot_output_specific, radar_plot_output_specific])\n",
    "output_accordion_specific.set_title(0,'📊 Metrics Table')\n",
    "output_accordion_specific.set_title(1,'📈 Bar Charts')\n",
    "output_accordion_specific.set_title(2,'✨ Radar Plot')\n",
    "\n",
    "def update_checkboxes(s_type):\n",
    "    global checkboxes\n",
    "    checkboxes={}\n",
    "    choices = abstractive_models if s_type=='Abstractive' else extractive_models\n",
    "    with model_checkboxes_out:\n",
    "        model_checkboxes_out.clear_output(wait=True)\n",
    "        for mk in choices:\n",
    "            checkboxes[mk] = widgets.Checkbox(value=True, description=MODELS[mk]['name'])\n",
    "        display(widgets.VBox(list(checkboxes.values())))\n",
    "\n",
    "def on_generate_specific(b):\n",
    "    generate_button_specific.disabled=True\n",
    "    generate_button_specific.description=\"Processing...\"\n",
    "    text = text_input_specific.value.strip()\n",
    "    s_type = summary_type_specific.value\n",
    "    selected_keys = [k for k, cb in checkboxes.items() if cb.value]\n",
    "    if not text or not selected_keys:\n",
    "        with summary_output_specific: print(\"⚠️ Please paste text and select at least one model.\")\n",
    "        generate_button_specific.disabled=False\n",
    "        generate_button_specific.description=\"🚀 Generate Summaries\"\n",
    "        return\n",
    "    with summary_output_specific: summary_output_specific.clear_output()\n",
    "    with summary_output_specific: display(HTML(f\"<hr><h3>Processing Text ({s_type})</h3>\"))\n",
    "    for mk in selected_keys:\n",
    "        model_name = MODELS[mk]['name']\n",
    "        with summary_output_specific: print(f\"⏳ Summarizing with {model_name}...\")\n",
    "        start = time.time()\n",
    "        summary = summarize_abstractive(text, mk) if s_type=='Abstractive' else summarize_extractive(text, mk)\n",
    "        elapsed = time.time()-start\n",
    "        with summary_output_specific: display(HTML(f\"<h4>{model_name}</h4><p>{summary}</p>\"))\n",
    "        metrics = calculate_metrics(summary, text, elapsed)\n",
    "        metrics.update({'Model':model_name,'File':'Pasted Text','Type':s_type})\n",
    "        metrics_history_specific.append(metrics)\n",
    "    df = pd.DataFrame(metrics_history_specific)\n",
    "    with metrics_table_output_specific: metrics_table_output_specific.clear_output(wait=True); display(df)\n",
    "    with bar_plot_output_specific: bar_plot_output_specific.clear_output(wait=True); display(create_bar_charts(df))\n",
    "    with radar_plot_output_specific: radar_plot_output_specific.clear_output(wait=True); display(create_radar_chart(df))\n",
    "    generate_button_specific.disabled=False\n",
    "    generate_button_specific.description=\"🚀 Generate Summaries\"\n",
    "\n",
    "def on_clear_specific(b):\n",
    "    global metrics_history_specific\n",
    "    metrics_history_specific=[]\n",
    "    summary_output_specific.clear_output()\n",
    "    metrics_table_output_specific.clear_output()\n",
    "    bar_plot_output_specific.clear_output()\n",
    "    radar_plot_output_specific.clear_output()\n",
    "    text_input_specific.value=\"\"\n",
    "\n",
    "summary_type_specific.observe(lambda change: update_checkboxes(change.new), names='value')\n",
    "generate_button_specific.on_click(on_generate_specific)\n",
    "clear_button_specific.on_click(on_clear_specific)\n",
    "\n",
    "input_box_specific = widgets.VBox([text_input_specific, summary_type_specific, widgets.Label(\"Select Models:\"), model_checkboxes_out, widgets.HBox([generate_button_specific, clear_button_specific])], layout=widgets.Layout(width='35%', padding='10px', border='1px solid lightgrey', border_radius='5px'))\n",
    "output_box_specific = widgets.VBox([summary_output_specific, output_accordion_specific], layout=widgets.Layout(width='65%', padding='10px'))\n",
    "app_specific = widgets.VBox([header_specific, widgets.HBox([input_box_specific, output_box_specific])])\n",
    "update_checkboxes('Abstractive')\n",
    "display(app_specific)"
   ]
  },
  {
   "cell_type": "code",
   "execution_count": 12,
   "metadata": {
    "id": "hH_jwRbSN6yl"
   },
   "outputs": [],
   "source": [
    "# ========================\n",
    "# 10. SAMPLE TEXTS\n",
    "# ========================\n",
    "\n",
    "sample_texts = {\n",
    "    \"News\": \"\"\"The global stock markets experienced a major downturn today as technology shares plunged amid fears of a global economic slowdown. Investors are closely monitoring central bank policies for signals about interest rate changes.\"\"\",\n",
    "    \"Science\": \"\"\"A team of astronomers has discovered a new exoplanet in the habitable zone of a nearby star. The planet, roughly the size of Earth, could have conditions suitable for liquid water and potentially life.\"\"\",\n",
    "    \"Health\": \"\"\"Researchers have found that a diet rich in fruits and vegetables can reduce the risk of chronic diseases. A balanced diet combined with regular exercise is key to long-term wellness.\"\"\",\n",
    "    \"Technology\": \"\"\"The latest smartphone release features a foldable display, enhanced AI-powered camera, and faster 5G connectivity. Experts predict it will set new trends in mobile technology.\"\"\",\n",
    "    \"Sports\": \"\"\"In an exciting football match, the underdog team managed a surprising victory against the reigning champions. Fans celebrated wildly as the final whistle blew.\"\"\",\n",
    "    \"Finance\": \"\"\"Cryptocurrency markets showed volatility today with Bitcoin prices dropping 5% after regulatory concerns surfaced. Traders are advised to exercise caution and diversify their portfolios.\"\"\",\n",
    "    \"Education\": \"\"\"Universities are increasingly offering online courses to adapt to digital learning trends. Students now have the flexibility to access high-quality education from anywhere.\"\"\",\n",
    "    \"Environment\": \"\"\"Climate change continues to impact global weather patterns. Scientists warn that urgent measures are needed to reduce greenhouse gas emissions and protect vulnerable ecosystems.\"\"\",\n",
    "    \"Entertainment\": \"\"\"The latest blockbuster movie broke box office records on opening weekend. Critics praised the performances and special effects, predicting a long run in theaters.\"\"\",\n",
    "    \"History\": \"\"\"Archaeologists have uncovered ancient ruins dating back 3,000 years. The site reveals insights into the daily lives, trade, and culture of civilizations that existed in that region.\"\"\"\n",
    "}\n"
   ]
  },
  {
   "cell_type": "code",
   "execution_count": 13,
   "metadata": {
    "colab": {
     "base_uri": "https://localhost:8080/",
     "height": 49,
     "referenced_widgets": [
      "3ea89abd227b4600b6a8e18933644318",
      "2b97e52bb54f4f898c75c34d82141a41",
      "7ce6000d85804fedae5d0e7fd64611bb"
     ]
    },
    "id": "__k-G8GQN95r",
    "outputId": "33e66b36-30d0-45e8-8cbf-32bb50d779d2"
   },
   "outputs": [
    {
     "data": {
      "application/vnd.jupyter.widget-view+json": {
       "model_id": "3ea89abd227b4600b6a8e18933644318",
       "version_major": 2,
       "version_minor": 0
      },
      "text/plain": [
       "Dropdown(description='Select Text:', layout=Layout(width='300px'), options=('News', 'Science', 'Health', 'Tech…"
      ]
     },
     "metadata": {},
     "output_type": "display_data"
    }
   ],
   "source": [
    "# 11. TESTING SAMPLE TEXTS\n",
    "# ========================\n",
    "\n",
    "sample_dropdown = widgets.Dropdown(\n",
    "    options=list(sample_texts.keys()),\n",
    "    description=\"Select Text:\",\n",
    "    layout={'width':'300px'}\n",
    ")\n",
    "\n",
    "def load_sample(change):\n",
    "    selected = change['new']\n",
    "    text_input_all.value = sample_texts[selected]\n",
    "    text_input_specific.value = sample_texts[selected]\n",
    "\n",
    "sample_dropdown.observe(load_sample, names='value')\n",
    "display(sample_dropdown)\n"
   ]
  }
 ],
 "metadata": {
  "colab": {
   "provenance": []
  },
  "kernelspec": {
   "display_name": "Python 3",
   "name": "python3"
  },
  "language_info": {
   "name": "python"
  }
 },
 "nbformat": 4,
 "nbformat_minor": 0
}
