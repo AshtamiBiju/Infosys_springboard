{
 "cells": [
  {
   "cell_type": "code",
   "execution_count": 23,
   "metadata": {
    "colab": {
     "base_uri": "https://localhost:8080/"
    },
    "id": "uM7JzZ91oue7",
    "outputId": "bacf4c21-bbc1-431d-a70f-449a252217da"
   },
   "outputs": [
    {
     "name": "stdout",
     "output_type": "stream",
     "text": [
      "✅ Libraries installed.\n",
      "✅ Libraries imported.\n"
     ]
    }
   ],
   "source": [
    "!pip install transformers sentencepiece sentence-transformers scikit-learn matplotlib pandas --quiet\n",
    "print(\"✅ Libraries installed.\")\n",
    "\n",
    "import matplotlib.pyplot as plt\n",
    "from collections import Counter\n",
    "import textwrap\n",
    "import re\n",
    "import requests\n",
    "import ssl\n",
    "import warnings\n",
    "from transformers import T5ForConditionalGeneration, T5Tokenizer\n",
    "from transformers import BartForConditionalGeneration, BartTokenizer\n",
    "from transformers import PegasusForConditionalGeneration, PegasusTokenizer\n",
    "from sentence_transformers import SentenceTransformer\n",
    "from sklearn.metrics.pairwise import cosine_similarity\n",
    "\n",
    "# Handle SSL for file downloads\n",
    "try:\n",
    "    _create_unverified_https_context = ssl._create_unverified_context\n",
    "except AttributeError:\n",
    "    pass\n",
    "else:\n",
    "    ssl._create_default_https_context = _create_unverified_https_context\n",
    "\n",
    "print(\"✅ Libraries imported.\")"
   ]
  },
  {
   "cell_type": "code",
   "execution_count": 2,
   "metadata": {
    "colab": {
     "base_uri": "https://localhost:8080/",
     "height": 1000,
     "referenced_widgets": [
      "efdee05187284941bdb5d697bdccd2d8",
      "db14de1fd4324003a1a8a1881e4d3c6e",
      "b51dc8ac82ec43fc91d1de19af604ef4",
      "5aeaa2412c644a07a8f143e5dccb0e41",
      "56acda2844c74a3d998a3772928eb35e",
      "3dfb8475df0e4c70baa3830d9ea2e87f",
      "8ec53ad712254364991602c209aa9c55",
      "912678c4e99f446fbc13069dd9961ff1",
      "6ff719108c2b4b2d89a88863bf421389",
      "ba84b27974934e74baebf72c4b3f89bd",
      "b6bf96204e504dfb937eb3b1b78d136e",
      "09ac123ea13043acb0c41bcbf8135cf8",
      "5f808f5a577c43d381eefe5623c55b33",
      "2c9f11575fe844b58578b2264eea2979",
      "96ccf05e35d9469ea4c99980db2bee08",
      "f55f5b5bdcec42959653e6b63bad4230",
      "14449d65a7314e65917f723ded6d9fcf",
      "9f1a4de8526b4a9cacd23351a3c9cebe",
      "7094164f5d414c7990b0022807913078",
      "641ef29c2dfb4bc69005d228109eab36",
      "cfffedb213de42969c13fd258b8f786a",
      "4bab5fa5cad34210983128f3fd8a8d8c",
      "355f2091c382469089ad6e9c45df44ed",
      "fe72ba7922da4b63985a21d593a2368c",
      "cbddb697864e4a7fbf9b031274fccc06",
      "d70474633c35477a9c38ef4e1d7cec41",
      "cf4f489caadf48a2904a21647814bc63",
      "d8553b83707a4cc7bf5b0a5dc67125eb",
      "3c49027530de4f6d91109aa04a191a4a",
      "67c9b102c1834407b370d524faf409d7",
      "79ef43c29afb48bb8413c4bbab5bb3cd",
      "cc220d30b59e49399bfc6496fcebca46",
      "b17fd7f4989148a8b57d333ea8a759af",
      "21913761a5904916b6fde2ca43a0eff3",
      "88b24a4e78804d929f25220a295d3460",
      "c792ef410777489780b7f011435a3039",
      "c3717b7a24634b9e8490bf9964a00153",
      "9e33c1b143f64f77ba8a3637d56cbbad",
      "f9e8cb99f4154c5882dea068c13138e8",
      "7185b84f6dc94b5f9fdd43b7c2321c3b",
      "d2bf10492f234d4eab5b3f7d499496a0",
      "2fec9c593b0e4e25beff21d8a2f9616b",
      "631119a70a3d43cbb115dd45daaceb8c",
      "15d50afbbf27454db40cc0ce549fbe76",
      "e0cbe77ac8744b0bb87c543b3221af32",
      "819f0762e1044a14ba525ec123d9875a",
      "d05dd179dda142debc135b7656085e54",
      "dab9cc2ac07a46718b501531196e9efc",
      "bc72c103fcf245c1bb38c054e8fa86ec",
      "eaa539d583a1465f8c031a1c58d8ff1e",
      "2e3bd382e06f4710abb300370bf77c35",
      "df107dda2cef40a39279539f9ef36703",
      "af6cf3a5004346c1b524523c222602db",
      "4ea98efeb7b8435fb67e2332133a4885",
      "a9ab6009a26f43bcba1c3cac4e6b0632",
      "4aa4963d70ae434a9e4d3b0084c2c219",
      "34880b20e09d46229a9cbed10c5d4e99",
      "76ba1e2a91f7446798d6f54cc00c15a6",
      "dd38ffa193db476181f15c55c8412aeb",
      "41b641853f9f4c1caa86d41383aaaecf",
      "1302cbee756741229f380e78610528b3",
      "4cc65c9e5012491b83f67124692fe3c0",
      "67b91af862f1410db2fe15c4a0d07d9b",
      "59aea5852b834038a3b2954b6857a6ec",
      "6970df509e2e46b2b92f1f5b8e8c5383",
      "c85ff14a2b8a478fb67aa32f2700ce14",
      "bb609d9162784a379ad78e289a6920c0",
      "a0837303b1b6447282ced7c8242cf66f",
      "838930f5395940bab78e0885456b9a6e",
      "2bd77cf77b334513b89006647a7474e5",
      "20eacf8bb5f445969694801eb7f0ade2",
      "1e4d2a3e497e471681f5e4b963609904",
      "de845918e7154fd1b1a8647f3c673e12",
      "15dc874eab404ef79f9ddec6d5c5779a",
      "6e556a0c943840b5a77f7f32106eaec6",
      "f822883a280e43bea9fe4ef4c8de05b9",
      "56c32c3d92e34d3b9c3bbc7a0aa48138",
      "2aa8c879c5994fc1add7981be29f9ace",
      "8398585618954761b5790b6572ad1dbb",
      "412c79c0810949658781a78c9551d9fb",
      "b9a71d52ff0f4c659c6d71ad13b973f0",
      "9cc8f8ccacfd4970910a5789521514c3",
      "74ee85127f6b43a4975e22c6fcaee43b",
      "e439fd53192344ea8fe5f751781d9865",
      "91a1437799854dc8adeeaa9636191a9c",
      "5d012cb4689d4bc5a9b9a1147097b8f2",
      "5ddd506e1e6a4c68a8d939da31f7e91d",
      "bd100417c30a4e4195794bee78b4509a",
      "01f69b48050d4f96b30f633d1ab08141",
      "4cd208158fb64917a8d888ec61cff408",
      "2e677619d89c4feb82f0e4d4074b3017",
      "8b1f6d9b78d442f8a651e0959078fdc2",
      "da865aa975ce4f748e2d36ae66689f82",
      "1d48f6ed2ae3482dacdce90885be8ed8",
      "10c8db5473fa4693961aedd3766419cb",
      "bb1e035b2f1e4e49b90d027edcfb9fcf",
      "179e5bfcb2bd446999ac8d532a8343b9",
      "b1809acb5b854ccbb810630bffe6e7a2",
      "d194bf63952648f5b6f73941af361163",
      "b15b2052008c46ad9e25e8ee6248eeef",
      "c3ea0caad41c4071b771d44f79d6bc99",
      "de60a875e3f74641869dc56b612216e1",
      "d5fa6c7ec1bd40d79f1bffc20262939e",
      "e3a60630d44b4b8c919eeda39c54ddc2",
      "eac3b027f6094835b931f3766c4a990b",
      "29dfb920dfaf46969027691f4fff42e2",
      "3a4915f917ff48378003afe2aac45d42",
      "9c3a9397715b46a6a431b0d7d8643bc4",
      "8824b67242cd4d28a5c6db28901d1269",
      "702ce4ceaac84dafb23287cdf693cc68",
      "5799998d044843dab37f845a7d0eec35",
      "67125bb9b6464e81a11b3d52f0a465f7",
      "9939b4bda24e4cccbd46f009369ec952",
      "8f9a179d5ceb46438d5bb7de8e41af9f",
      "308b8887326e4f4a93dcc66e42bbc7ac",
      "0c3c8238a1db4ece9b9cd634a114002d",
      "54aedb0b15354f928c143fa68236a7da",
      "fe585e7494ef4ba38551035bdad77f45",
      "0c132feaeea945e9aafea22131f7b20e",
      "cbc7a260aa224945a0afe9d6727e2acc",
      "bf953bc58d784cd49daff86e856d8159",
      "1e006a041f854484b0b6532f79528e3a",
      "ecfbca447ab5439cbc6f4df11e97d334",
      "6273192d1e5c4123a18210c383f25465",
      "705df08c291c4bd285faf1852dce4fdf",
      "d2abc832606b4473b9a119e9ea9b2a6e",
      "077f0d1eddaa4a59aed6f7b05f1c049a",
      "95879457da6b4027853fd0d7b4bc6e26",
      "a18670b8c5b04a67a58ded8ca22edee4",
      "8a8933eb4db34d24ac461b66207c1a3d",
      "07c1d04aa9064008b1b1f030a3e8cf3e",
      "b36c8f02d0f7440d81ff16c18106425a",
      "ddcb26054bed40d8af061927f9019f4d",
      "f957c5e041bf4e1880d275ac181130de",
      "29aebbbc26bd4a608fe2b1d1ab72abc1",
      "930b28f4be924d489107f494500a09c9",
      "de00afa19d8d48e882c7660c3f746661",
      "3435ac0f42d847eeb117439d662cc147",
      "07f3e138a8e24fa196384d9aea9bfd97",
      "c433c7dfa8ee4586bc46d8b49735d2b5",
      "ebc911f0041c42d1b41d737201d5e7c3",
      "40bfe22ba3194048a71f0ac6fe456e79",
      "0b0f155a92074a9cab3fc22f7f99eb1d",
      "ca360b7bdbf346fb9fcc9ad458ab2337",
      "11550027241e4f0b8a96b395e38382c8",
      "cd08741140a44559a3465bf8fc1adca4",
      "cb1c6563a9554d2e96b3d1a2938e41c9",
      "dcc1c4a37feb47e2b00124ba350186d0",
      "8b82c3f34a224d0eb533fe4b084fda15",
      "5185e51cfcdb4afa8063e9718758e80d",
      "73a2c02f9b1340f19c0fa0c54bda569d",
      "1f179ddc028949d59d42b2682551e4d5",
      "07673b19409c43d282d4a32b15ee5558",
      "6b0a889f811f4de8aa842881ff405bff",
      "ebae5122a5d949668d419a7883d2dd5f",
      "f950cf0dd4f24c269c21fe66d5a5592e",
      "698fa5db72334f10af286da9ee088dcd",
      "c98190ed9d9b42c9a30e60eac91587f1",
      "ef7255f078c344648e5d87adb001cd00",
      "efec49d5cd354b25902ba730f3a64926",
      "2940f39f71f3422a806fe20fdca046e6",
      "b4448e006dc04131a81dc29ad46fb232",
      "6b24bbdb0f774a93a5bb23e9f5454984",
      "cbfc4e9e4bff4386834a9b3908dec408",
      "717aaf7d855c4d52b42e300bb96d36a6",
      "cb568c2935b24631baf2ac250420bc64",
      "cd606d24f40c47ceac700e75075795df",
      "aad338e5128c461da0d0804a67fd115b",
      "07fe9f9966fb445e9c08b86e753749bc",
      "f331adc206a9417fbe0c4663c87742c2",
      "a3f792d0eb774652a08967458051c8b3",
      "b6e4809a1ab64fada6aa4eb01adb678c",
      "2d25c2f3c8aa4be59d12523079118ae4",
      "27fc3ad4e3734486b0eb3aaa30700c30",
      "1557b73d26534196bc7c3d0186f9df97",
      "c1e2a0e97aee468989eebf4a071bf90f",
      "31af925b85104aa0ae04f5806014024c",
      "266ce2edce9c450085f40ed8ed4a4b42",
      "2aa1a4528e4541d0951662495a014b99",
      "57a7d90e3d8145838d420861033c206c",
      "ccbd0e9f15434530bd7662fd7ce60e2a",
      "60b1198a46394f6387fa7389c21baf68",
      "80094b91d3774fe198d23338a9218c2e",
      "c59e253f53994bbeaf6d417028ffb9e2",
      "aba3bdeeb24c45499265b548e32c61a0",
      "b8539e593dd74a70bcebc2a4a4f63966",
      "8e38872189c74f9a94999218a6f0ece0",
      "284309450195427db78b36b5513c176c",
      "4ee7c7326db5473ea189a8110a961ecc",
      "5645170a1eb64b16a3bba607154ad105",
      "a533c12402454c88937782c61fdcaf60",
      "5940dbc299a443b783d8a7713089ea5a",
      "58b6c92c3c31434e8d28580ef3410152",
      "a4b8640630874d4891cad5722edc68d2",
      "72d7c1d5d39f47e6be030d939bd3a8a8",
      "070746cfed41447da806cea8391d46a5",
      "0f79c0e8c4334d3692ce75e329bddcd3",
      "5d6ae4ee26374d75a218c4a5d7d6b512",
      "526d4f10b6ef47a68ad9320e9f8c13d4",
      "52ce060243e44920b731536d89bf2a40",
      "bb49f1f8edb549c8a84a67aed7550ecd",
      "511cca044e6e4ca393ff2d4ef22ed6af",
      "48803e3f53664b9c841810caa1197554",
      "f7431f573eab4855847d308d05a36c44",
      "fd0b3ade41164ef899e2689980d62032",
      "018a3a45fcd34cc3b2dccafa301e6ced",
      "8af5b0972a294e379075e4b4ec75ed2b",
      "32a7a957b0c8414b805ffc73b4438d2f",
      "3d81c23969914d668f9761ee3f13f842",
      "d93746fcb7c84aec89c9956d71bf716a",
      "80ea4668fa3a47adbc7fd0cb41e25032",
      "f8dcb94f78f448f29e2d3f721c7a75bf",
      "49c35caa61214ee2b909d6d638f9e220",
      "69afc0235b2b4fb98caf063fc09f654f",
      "f2d587a7a0b04241a048b20b726497be",
      "4f19549435364a59bdc5345660aaa531",
      "812d511cbaef478ab65efe893ad55e48",
      "7c0514bbbd144f8585242df5889e9f6a",
      "1d2e8de2e28941679971025141732cb0",
      "9d9a14ab3cdb41c4841f33c33ae7bfaf",
      "d0a8a08eda5848e9aa4d13195bcd019a",
      "c95000fa6f7844faa17ae2df30fc653a",
      "6e7a1676465348649a6e6b47a51cfcc4",
      "7d585cd4cfdc47aebfb2f9d7b9192246",
      "b916bfe22eec44c8b2346c0d3ed38542",
      "c9ad9651d3a943889fc7a4905dd7325a",
      "aa85cb3370bf4049943003ca39948f49",
      "755d5f93fd1342138da3e71a8a4854dc",
      "8f3a78ea7a5d434c93b8c2218d2d6af4",
      "ec4fe38a07e3435a8179258d09b9cb09",
      "73fb89d8a2ce4267aafcde944e007552",
      "48196ae96366446d8e31a9bc669ee5c8",
      "031e9fd01c3d45fd90bc57d57a80d357",
      "2515199a93004212b37cfc797b9f8dda",
      "aa93edc6b0a34594bcf745bcbb98ed84",
      "da75d8e343e54c41ad21089ff20e00be",
      "7a9ef8b5dcad4c1c9929835b81c00248",
      "1cad71380f284832a99f647bcd6f3df4",
      "ac5a7d0455294288a5baac19b35e1881",
      "8122b2e4e6614d468011e912060eaa29",
      "d716974d5117492ebb9f565cb5a87b84",
      "b1e6a7c6faa54366bc637e555e7babd7",
      "5ca7f86cc67747a6a3c2a7f622504627",
      "c96aaf3862f14d42897616789c3ea028",
      "1436aca3ad6c4663837eaa2968de28b3",
      "f93907a385284492a9206d8a764664df",
      "a2b4ce956f8b4810840aba2bdc52608c",
      "5afb0f4501504595af618dede5a0c2dd",
      "a36b85f44b144364bb92e2bf83a223c7",
      "9d9b5f40789a44d4a8b170083f081c01",
      "5b4ab67a808648669cd5b7c50930d233",
      "6951db39eb5c400c8c5df182eaff301f",
      "201530394cb2455197a058aa2e021120",
      "3cb5a84efa3f4eb3a24d41b573685bd3",
      "0272bca032474dc389a17afc2c0b4011",
      "a05b17c106bb42e0b2036aeac1696bcb",
      "85ecbe9e9fdf406690c2dc4623bc6dd8",
      "95eb26c1746f43c396cafba7f01f1721",
      "9c918c041921489cb5adffab465fd799",
      "14b1aebb0b3a4af6b4f27eec5202d1e9",
      "ef56af5f34a140cf90776251ae69f7be",
      "6b5996547c0844779d54956edc52a8b7",
      "4d574962aa11446c9fab1e603ebf9ccc",
      "4c60c8277498427fa0a01a558ed3d8fe",
      "7e385bef779242d1afb4081a9fa6aee7",
      "d7549fad0982432198f680717186bada",
      "4c75aa9ee6f04d8c93cfcf8f1de07bca",
      "b641f183b17944dc902f899220162923",
      "cdb0f4789878456baf39bf97c1331dab",
      "00a5d80e18f94500a1df65651aea31fe",
      "4f5ef08bbc5c4d0eb7bdaeedff76ca54",
      "7eab395c3ecd47c2ad12e3f5b007d56b",
      "a67e7e83c0b84e6da1a627e8ebb23cf6",
      "8beb0497c91a439b8fb975e581b088de",
      "5509115833d744e4869d46cb57f763be",
      "8c1813cd6e394b6cb3de0a2b1ea88657",
      "b07d2006c9024646bacdce86566c8f38",
      "e03ef7433b8f48a6a9dadf3cebe61832",
      "abebbd051e37487dac73e2f1f2245e8f",
      "28dcf63ff3d0403cb4eec4ed7dfbeb57",
      "022d3025e17647b1a82c89d2eb6a1229",
      "9ef112e4aa4345d49c4e52368206d0eb",
      "e242e447e58245b4b3ca1765b78094cb",
      "ec64b61a3ab64985add8a791b08d86ec",
      "29ad0b9117c94497a49b2bede5a2c989",
      "ca587cfc1e47431a9f17a6a734a23f9c",
      "dfc9f644e60f456090b431263466d437",
      "6ac6aa73fc34469f9f5c306d88a3827a",
      "d9ea1df712ec42a093a04115a2b94032",
      "4b0b64731d6145f39171f325721ad7e3",
      "0e3854d2cf1c444b882bb389a491ed8e",
      "b6f0c07492364c35aa8235bddd7c566d",
      "40fd4ad23a0b4090bf8cb71d4d5b395e",
      "9ee8a6c1ee574be88eaf74c8ebd7f815",
      "29821f9e287946f59044070cf9bbbb5d",
      "819848bc047b492ebbcb2620c8adac13",
      "f8646fffca4d4f2b8db6eea1f841715e",
      "4faae64495c745ffaf676490497d2007",
      "22ae9e9d1bdb4fd082b7dc4354812f81",
      "df260e4073d14f54830e7b0fb81ece2b",
      "ef53de169e16484a871406c5badda3b6",
      "e758e9f042dd4f7cb1c22b19a7e80f77",
      "ea6bcb72368844c09ed56c43fae417d1",
      "3a28114936c14be8963882b6da384db2",
      "97e90caa4dbb41c5b02625031cb23747",
      "bd52410c84fd445d89d9616a51cc6d5a",
      "4104f208a61e407bbb176a57882820d0",
      "5627582bbb1a4d6d912d89c419408eb0",
      "f2823fd941834bf2aeab04763f8ac3c3",
      "24d2e80bfaa0475688de7961d6f52414",
      "e54546e797c043aaa5c32c6cf3d9de73",
      "be3e885730934cd6b5028b4843ad3930",
      "4c7067c51ac84264abc2eee8ef64539a",
      "7e5162ab7d3f4318bfa92a833c2f2282",
      "f75084e9649c40268c779832826cfa63",
      "1934a8ff1138402cb05a24ba68d07401",
      "cc5a1a3f09184a01ac7b06349cbafafe",
      "c723c8eaf784424b8d8e7ae4b98e1d73",
      "0644dbef4d74418593991dad3afdcbef",
      "348e0c7849ff4b21ad8dbcf3f5e1d472",
      "d468f87e96764e1ab3e1ee571f512d33",
      "1209b9d5c800450485704624fd23319b",
      "1baa20c743c549a09840bbc619e9b698",
      "6d1417ce0fb943f9a5f28a169e8aef5f",
      "a38c2865ed024fd4ae57a03333529b82",
      "625a582afe374069bdd7639a5c66a335",
      "33cbcb52049a4bf484dc7077b87259f7",
      "e38ad3f190ee4d7da95d11dbadead561",
      "03f3027f62af43e8bd563412fdfac112",
      "b9f6d52befd44f35bf6de0fb81497b06",
      "06818e7b631744d2a0d496d19f2f4a33",
      "bf6e7fd6755f4b1a9a70888c13a4d5f7",
      "405425b4b131467a88a14c3dec7b4c63",
      "1a9534619c6d43668650cc3a985be170",
      "602f849156c5463f97d5268d568a2ea0",
      "12435a5e4c0b4417bb41493af78d1a42",
      "c0fcc18350af496180815b4ba353c96a",
      "24b94c789882400786df471e6abe722e",
      "bf48441800c54f1b994b94e390c4fc41",
      "b02813627973476baaca3932090003c5",
      "76ddc3838024470b83283dd92b665319",
      "3992e78c4bfd4670ad1fd44a71aca057",
      "bd29baea20e846a286f2bee8777a5327",
      "33bb33c3b512468f98c0213c4bc5cc7d",
      "3d1e745fd2ee48c2a7264b0bfe038bf0",
      "c5b71efeb5d14055a7b55c567de67daf",
      "22172a5974644335b9132ce3d67e9315",
      "4856879f667541b49e4d18cc2059f882",
      "bd3d28d6ce2e498a9a836b0c2967fce8",
      "a8291a4bc7c94a8fad8ff6598811d2eb",
      "890874ab5ccc4fbd9266cab819eb0ec6",
      "59e2423a1b8a49f28f528fb91acf2245",
      "22cba67fa3844c5795e2e8f641e26ff1",
      "8281f5a04b964a77b5b097afabc8b852",
      "238844b268f749c8bd899a8faf103eb5",
      "8e57cb544db24aa089511067d4259e16",
      "1d3b7a8661364362b19f3bbc58fbc629",
      "d08975d98c6149239bdc5783d638540b",
      "ee5395132bce4da6a50f9cec96f6ade9",
      "218c85ff8425406e87be194417ef6c12",
      "ec502c1e6c7a43419917b013888e262f",
      "c3be4b4b8ddc4ac1958788f19b316453",
      "afd9d5d3eeaa47d8bafb5d402a693512",
      "3bcd363dd6534090897a702983a8ecf6",
      "8921b59ae3e7490398d9116edd8aec49",
      "663fb855e9f848b48cda5d3364fc3bfb",
      "78d1c2e74d54427a9b56d6debc20a8e1",
      "5ce8be2e771c4fd5bef91045a65b5ff1",
      "f6c67f8b41f94b9d9f80dab8ee60857a",
      "23ea80abbd5a4018a19f0a62c5f18d0c",
      "657c0bf737ac4bc89165ba1d5d325f8c",
      "502f27d8a45a4614946200f43fe5b9fd",
      "99756cca745b4818b570a392d69f09ad",
      "f8ef43c1e260473892c7bd000a3768ac",
      "926424c821e1489e9b451790a736a001",
      "d2fe6477253b4aeb819b73cf61f0c9b9",
      "ebbe793500054dea9d92f3ad045fcdf8",
      "c035a0585811429f949700c7531f18b2",
      "0edef3527a6244fc809fbb3291e0cf5d",
      "dde3eda7a0584270a8b0d2010f1e4ee1",
      "85c4b3955d274e78babe5bd7a2cd7f03",
      "3e3d05f108ed48b8a307619c32e70fee",
      "555fc25943bd4ea7ba090d04183dbf7e",
      "04ce79e6656f410cb83fc6b4326bd90f",
      "ea2bd22878e4484a95447551911d4ac1",
      "6ebb30c2d2074942a6cdc39bed735034",
      "2d545420292a4e6bb6d948842d12e527",
      "484e488aa51144c6a401a5384fe235df",
      "81685e1bcba145a2b6d3ee8904c08641",
      "aa1aa4e6c2cc4ef181420067917e7f1d",
      "baf611c4b7bd4720b843cfd31095505c",
      "8871b61ae9df474992d38722947b31ad",
      "bdb6f6fae0a24239888f51693da431b6",
      "aa00edd2721848fa8f2a9e455af1d52a",
      "f8e59fc662c74dc9a78e1212e1f4b997",
      "bbd86a1ff24c42339937b957e35e2673",
      "fc4821b65e4b408a816d548a49bf637f",
      "bfee55704bd244e58cc06ae99f9202e9",
      "ce3fd64d540d44269b34ca5395d1deea",
      "ce1576d78db14cb9aa7b725146e878cc",
      "0bd1aa09e28c40fa9bae18f7b1812334",
      "f41b38192dd94c00ae3ea99acd838916",
      "ce4ad2b369fd4f819d4e684da8fae64a",
      "9573236298f740469d83c6a4e9b1db91",
      "02ab2e90131c4006bd7b8e47420531ea",
      "9e73b0005fdf4ea7a26c2de6f84125c3",
      "68575d00d1294b28ae412441c531c42b",
      "b87f4470c24a426a8baa6561789eca70",
      "ec761a764fbd4a6b81837fc553291b99",
      "3ccf62ceb5f94ee09957bfb85f89edd4",
      "b8db983aec2e4af19a8fcc46eb62b128",
      "bcc2dfc64a094c0c91b88f8dfeabaadf",
      "24280ee4d3504400af86d595e46de14d",
      "3c7bd3605a904e59954b0fbf1a53f565",
      "51dc8b921b4445f382c4738ae833d335",
      "e695a05b558d447abec8af781c54443f",
      "9acba5667ddd4d0bacd5c450f79555f8",
      "9435ecdc304a4b2c8b5b74039fbfe2a1",
      "87c8b959035047f4803ddf62c7963388",
      "f70e948071144f09a0999426ddb41c60",
      "e79b03b321d1487399a5b357b38a5b92",
      "51b65991354641c79da4200dc90da645",
      "6a31c03f18314ee8a1e15d69f8f34c82",
      "b76da17aaa784499b321e54cc89b75fb",
      "8f47d7b03b3e4f67b78164dd60e34eea",
      "b7c78322d40e4a3dad0367043acfbf0b",
      "a507d1dc28164c1c8ae8414441ab3546",
      "da668cab595a4bf5b244e399e20482f7",
      "ef93271c65e54a4d83ba2192c932290c",
      "eeb48d41254d4e0e87b54917e6bf7d33",
      "b86548b2c4304889b1b9b05172ade77a",
      "49eb1270595548de9584d010b37657fe",
      "5780057b00e7446fa8f8381407bee5e9",
      "60f3e5d9cb8b4c14b1547810a0faec3b",
      "8ef3f237188a47e5a89cb6abba2c9310",
      "448f339e8e4a4798a0594f68a0d69eb2",
      "60a874a9b7884ed8ad6c9027736e82e3",
      "7ddd9b41f0ec47b78fcd451ee53f2ef7",
      "d93d286447cd4bf0ad18a593913ae770",
      "05526640493b471286da1564c77be1f1",
      "3c0adddc29cf4f3fa626c6c04e5dd7fc",
      "e6cf79b2b9df4efaa3b60cbc190c1136",
      "6118e129690d4e2b840fd8655f30a7e6",
      "b17c651ca4c44fa686c7e7f073d9306c",
      "b0edc79ede964a29a1a3ba760ab0a042",
      "cd2f97079deb4c1cbd86c166db5c96a0",
      "5b0dba4133224ee39359e2c9fb6605e6",
      "9fd31b2a80344142b770cb0e12071ac9",
      "4cbd056ba2d44c5b8c330996dd0c3ad9",
      "818d9c2a0d00491fb18a77f397938ac8",
      "5a03e11e2acf4b3b825bcfd59a2d82c0",
      "7a9bb089613047b2ad109341e3fddeb4",
      "ce917a355dfc4dab97e1c03935e2da1c",
      "95ef1c3c42094589a39f6509691b2948",
      "c8dadf69935247bd9d444737ce197a0e",
      "6f17287fa3c14162b7a920a22ce2cf7c",
      "caccf1295f9746df985e70397f707620",
      "385e1f690e47411d9d13e3de9e1357dd",
      "bc9799d4edf1428bb2c6870971744949",
      "13e79851c0f44c47b8273369a023994a",
      "0819c8fc0d634fe8b6c9ab8dffe0786f",
      "c3a554d2d6604689b6528a53cbe222a3",
      "4b81ac40d2374841aa8b7cff65402ff2",
      "05adcdf734f24353b0e6d6d97bc54de4",
      "556544af0e6b4b94a574e38d0c610325",
      "8a2976875c9d4bf8bb92d08b627c867d",
      "db1adff826534c2a952a785e46879f87",
      "09324bdbbad44d4995f738ef0fd3699c",
      "14cc196f776649cd9d9edfd39e744091",
      "89d8ebda07f6454bba815721aa3433b1",
      "14214e17bd8f477eab17f9cc890fc435",
      "d878a7e811164fcdade1b481ba29f79f",
      "51b498ef40564746b797af2289d1762d",
      "dcc5df0cc4df4d8ba252b972c5f6d2fe",
      "aa8807e86ee0451092a31b0f5d758fe0",
      "f1ba2cb9c7374d42b7af48df0acbafcd",
      "93f4ee89680b48f4935d9e0d0a90785f",
      "f68f59b3cf2f461c95274846bb41698d",
      "5096f4a8ff7b46a2beb205d5783e0a5a",
      "499668215b2148daa733fa7962ccbc68",
      "f052f6eb8ff04083836c935f9daf71ce",
      "6dc7d80d3a3d43ea881a08ffceea7bb6",
      "fbdb08768ce549e398e1a8cc7e521d7e",
      "6557705769d347d38057e7b7e27cf5be",
      "5131d318c8d241b28bb4fb78f0470da7",
      "8496d16c4f8d4bb39c615b2c5e941738",
      "49a543cc8e894889a7a588a9ac893328",
      "b2bc9821630046c1b8e6dc8c5ee1661f",
      "69ea947df5a045ba9ea613eeedbe4f0d",
      "e12af009645d4c4eb4225adc3307d440",
      "9b189a6fec2244f0b5707f5ae163b17e",
      "352d740ad22b4080a8e8ab9e4e0f2dbc",
      "26aa37f3ba9b4654bff502a2eb639d2a",
      "d8742c0e545f4bea84c762c8801c5561",
      "6f44871045dd40a9aca0ba006062d4d8",
      "8b583c5d93bb455cb27157d80579ccfc",
      "b658dae195214be7b803858a0cc95239",
      "22c211a7a06e44e594fb7c15e7330abc",
      "82a8294c1600441cabbe416b22a6bf88",
      "ad83d4a08dbe46aeaf2675319e9bbdc2",
      "146441f456264cfdae7f06eb218e48ad",
      "3b347db9673745bd8799266c4491f85b",
      "fe94eb72a31240ccbe1aadd470db0aa3",
      "da2648340340480286a6b5e625be3cee",
      "4d9c00de1d7640ab991c0de437eb4d65",
      "404d73a260f84ceca8b166478ce512a0",
      "15c938e87ed04cd6be1562bb42525119",
      "95c5247530654addb6d6a102fc50b39f",
      "d73ab840fc5346499834da479427a6be",
      "f972c8b6128d44e58cb4d80968834344",
      "7abbfa15656c4639a6d6647f0a0cd0b2",
      "d9dc44ad2f4e41688edfface4895f7ee",
      "f8e94d25fcc14703992415cc43689b2a",
      "53905db569074f0c92ae03e3f519f037",
      "c539125285c94712abfff927728f3397",
      "98a3d28a67d34a48b03cfa4c88daceb0",
      "1360971625d94aeaaf3f099314f468f9"
     ]
    },
    "id": "tDcoIMbHo1gF",
    "outputId": "c8c6f443-77ea-4d31-8bdf-155646c93f8a"
   },
   "outputs": [
    {
     "name": "stderr",
     "output_type": "stream",
     "text": [
      "/usr/local/lib/python3.12/dist-packages/huggingface_hub/utils/_auth.py:94: UserWarning: \n",
      "The secret `HF_TOKEN` does not exist in your Colab secrets.\n",
      "To authenticate with the Hugging Face Hub, create a token in your settings tab (https://huggingface.co/settings/tokens), set it as secret in your Google Colab and restart your session.\n",
      "You will be able to reuse this secret in all of your notebooks.\n",
      "Please note that authentication is recommended but still optional to access public models or datasets.\n",
      "  warnings.warn(\n"
     ]
    },
    {
     "data": {
      "application/vnd.jupyter.widget-view+json": {
       "model_id": "efdee05187284941bdb5d697bdccd2d8",
       "version_major": 2,
       "version_minor": 0
      },
      "text/plain": [
       "spiece.model:   0%|          | 0.00/792k [00:00<?, ?B/s]"
      ]
     },
     "metadata": {},
     "output_type": "display_data"
    },
    {
     "data": {
      "application/vnd.jupyter.widget-view+json": {
       "model_id": "09ac123ea13043acb0c41bcbf8135cf8",
       "version_major": 2,
       "version_minor": 0
      },
      "text/plain": [
       "tokenizer.json:   0%|          | 0.00/1.39M [00:00<?, ?B/s]"
      ]
     },
     "metadata": {},
     "output_type": "display_data"
    },
    {
     "data": {
      "application/vnd.jupyter.widget-view+json": {
       "model_id": "355f2091c382469089ad6e9c45df44ed",
       "version_major": 2,
       "version_minor": 0
      },
      "text/plain": [
       "config.json:   0%|          | 0.00/1.21k [00:00<?, ?B/s]"
      ]
     },
     "metadata": {},
     "output_type": "display_data"
    },
    {
     "name": "stderr",
     "output_type": "stream",
     "text": [
      "You are using the default legacy behaviour of the <class 'transformers.models.t5.tokenization_t5.T5Tokenizer'>. This is expected, and simply means that the `legacy` (previous) behavior will be used so nothing changes for you. If you want to use the new behaviour, set `legacy=False`. This should only be set if you understand what it means, and thoroughly read the reason why this was added as explained in https://github.com/huggingface/transformers/pull/24565\n"
     ]
    },
    {
     "data": {
      "application/vnd.jupyter.widget-view+json": {
       "model_id": "21913761a5904916b6fde2ca43a0eff3",
       "version_major": 2,
       "version_minor": 0
      },
      "text/plain": [
       "model.safetensors:   0%|          | 0.00/892M [00:00<?, ?B/s]"
      ]
     },
     "metadata": {},
     "output_type": "display_data"
    },
    {
     "data": {
      "application/vnd.jupyter.widget-view+json": {
       "model_id": "e0cbe77ac8744b0bb87c543b3221af32",
       "version_major": 2,
       "version_minor": 0
      },
      "text/plain": [
       "generation_config.json:   0%|          | 0.00/147 [00:00<?, ?B/s]"
      ]
     },
     "metadata": {},
     "output_type": "display_data"
    },
    {
     "data": {
      "application/vnd.jupyter.widget-view+json": {
       "model_id": "4aa4963d70ae434a9e4d3b0084c2c219",
       "version_major": 2,
       "version_minor": 0
      },
      "text/plain": [
       "vocab.json: 0.00B [00:00, ?B/s]"
      ]
     },
     "metadata": {},
     "output_type": "display_data"
    },
    {
     "data": {
      "application/vnd.jupyter.widget-view+json": {
       "model_id": "bb609d9162784a379ad78e289a6920c0",
       "version_major": 2,
       "version_minor": 0
      },
      "text/plain": [
       "merges.txt: 0.00B [00:00, ?B/s]"
      ]
     },
     "metadata": {},
     "output_type": "display_data"
    },
    {
     "data": {
      "application/vnd.jupyter.widget-view+json": {
       "model_id": "2aa8c879c5994fc1add7981be29f9ace",
       "version_major": 2,
       "version_minor": 0
      },
      "text/plain": [
       "tokenizer.json: 0.00B [00:00, ?B/s]"
      ]
     },
     "metadata": {},
     "output_type": "display_data"
    },
    {
     "data": {
      "application/vnd.jupyter.widget-view+json": {
       "model_id": "01f69b48050d4f96b30f633d1ab08141",
       "version_major": 2,
       "version_minor": 0
      },
      "text/plain": [
       "config.json: 0.00B [00:00, ?B/s]"
      ]
     },
     "metadata": {},
     "output_type": "display_data"
    },
    {
     "data": {
      "application/vnd.jupyter.widget-view+json": {
       "model_id": "b15b2052008c46ad9e25e8ee6248eeef",
       "version_major": 2,
       "version_minor": 0
      },
      "text/plain": [
       "model.safetensors:   0%|          | 0.00/558M [00:00<?, ?B/s]"
      ]
     },
     "metadata": {},
     "output_type": "display_data"
    },
    {
     "data": {
      "application/vnd.jupyter.widget-view+json": {
       "model_id": "5799998d044843dab37f845a7d0eec35",
       "version_major": 2,
       "version_minor": 0
      },
      "text/plain": [
       "tokenizer_config.json:   0%|          | 0.00/87.0 [00:00<?, ?B/s]"
      ]
     },
     "metadata": {},
     "output_type": "display_data"
    },
    {
     "data": {
      "application/vnd.jupyter.widget-view+json": {
       "model_id": "1e006a041f854484b0b6532f79528e3a",
       "version_major": 2,
       "version_minor": 0
      },
      "text/plain": [
       "spiece.model:   0%|          | 0.00/1.91M [00:00<?, ?B/s]"
      ]
     },
     "metadata": {},
     "output_type": "display_data"
    },
    {
     "data": {
      "application/vnd.jupyter.widget-view+json": {
       "model_id": "ddcb26054bed40d8af061927f9019f4d",
       "version_major": 2,
       "version_minor": 0
      },
      "text/plain": [
       "special_tokens_map.json:   0%|          | 0.00/65.0 [00:00<?, ?B/s]"
      ]
     },
     "metadata": {},
     "output_type": "display_data"
    },
    {
     "data": {
      "application/vnd.jupyter.widget-view+json": {
       "model_id": "ca360b7bdbf346fb9fcc9ad458ab2337",
       "version_major": 2,
       "version_minor": 0
      },
      "text/plain": [
       "tokenizer.json: 0.00B [00:00, ?B/s]"
      ]
     },
     "metadata": {},
     "output_type": "display_data"
    },
    {
     "data": {
      "application/vnd.jupyter.widget-view+json": {
       "model_id": "ebae5122a5d949668d419a7883d2dd5f",
       "version_major": 2,
       "version_minor": 0
      },
      "text/plain": [
       "config.json: 0.00B [00:00, ?B/s]"
      ]
     },
     "metadata": {},
     "output_type": "display_data"
    },
    {
     "data": {
      "application/vnd.jupyter.widget-view+json": {
       "model_id": "cb568c2935b24631baf2ac250420bc64",
       "version_major": 2,
       "version_minor": 0
      },
      "text/plain": [
       "pytorch_model.bin:   0%|          | 0.00/2.28G [00:00<?, ?B/s]"
      ]
     },
     "metadata": {},
     "output_type": "display_data"
    },
    {
     "data": {
      "application/vnd.jupyter.widget-view+json": {
       "model_id": "31af925b85104aa0ae04f5806014024c",
       "version_major": 2,
       "version_minor": 0
      },
      "text/plain": [
       "model.safetensors:   0%|          | 0.00/2.28G [00:00<?, ?B/s]"
      ]
     },
     "metadata": {},
     "output_type": "display_data"
    },
    {
     "name": "stderr",
     "output_type": "stream",
     "text": [
      "Some weights of PegasusForConditionalGeneration were not initialized from the model checkpoint at google/pegasus-xsum and are newly initialized: ['model.decoder.embed_positions.weight', 'model.encoder.embed_positions.weight']\n",
      "You should probably TRAIN this model on a down-stream task to be able to use it for predictions and inference.\n"
     ]
    },
    {
     "data": {
      "application/vnd.jupyter.widget-view+json": {
       "model_id": "284309450195427db78b36b5513c176c",
       "version_major": 2,
       "version_minor": 0
      },
      "text/plain": [
       "generation_config.json:   0%|          | 0.00/259 [00:00<?, ?B/s]"
      ]
     },
     "metadata": {},
     "output_type": "display_data"
    },
    {
     "name": "stdout",
     "output_type": "stream",
     "text": [
      "✅ Summarization models loaded: T5, BART, PEGASUS.\n"
     ]
    },
    {
     "data": {
      "application/vnd.jupyter.widget-view+json": {
       "model_id": "526d4f10b6ef47a68ad9320e9f8c13d4",
       "version_major": 2,
       "version_minor": 0
      },
      "text/plain": [
       "tokenizer_config.json:   0%|          | 0.00/86.0 [00:00<?, ?B/s]"
      ]
     },
     "metadata": {},
     "output_type": "display_data"
    },
    {
     "data": {
      "application/vnd.jupyter.widget-view+json": {
       "model_id": "d93746fcb7c84aec89c9956d71bf716a",
       "version_major": 2,
       "version_minor": 0
      },
      "text/plain": [
       "spiece.model:   0%|          | 0.00/1.91M [00:00<?, ?B/s]"
      ]
     },
     "metadata": {},
     "output_type": "display_data"
    },
    {
     "data": {
      "application/vnd.jupyter.widget-view+json": {
       "model_id": "d0a8a08eda5848e9aa4d13195bcd019a",
       "version_major": 2,
       "version_minor": 0
      },
      "text/plain": [
       "special_tokens_map.json:   0%|          | 0.00/65.0 [00:00<?, ?B/s]"
      ]
     },
     "metadata": {},
     "output_type": "display_data"
    },
    {
     "data": {
      "application/vnd.jupyter.widget-view+json": {
       "model_id": "48196ae96366446d8e31a9bc669ee5c8",
       "version_major": 2,
       "version_minor": 0
      },
      "text/plain": [
       "config.json: 0.00B [00:00, ?B/s]"
      ]
     },
     "metadata": {},
     "output_type": "display_data"
    },
    {
     "data": {
      "application/vnd.jupyter.widget-view+json": {
       "model_id": "5ca7f86cc67747a6a3c2a7f622504627",
       "version_major": 2,
       "version_minor": 0
      },
      "text/plain": [
       "pytorch_model.bin:   0%|          | 0.00/2.28G [00:00<?, ?B/s]"
      ]
     },
     "metadata": {},
     "output_type": "display_data"
    },
    {
     "data": {
      "application/vnd.jupyter.widget-view+json": {
       "model_id": "3cb5a84efa3f4eb3a24d41b573685bd3",
       "version_major": 2,
       "version_minor": 0
      },
      "text/plain": [
       "model.safetensors:   0%|          | 0.00/2.28G [00:00<?, ?B/s]"
      ]
     },
     "metadata": {},
     "output_type": "display_data"
    },
    {
     "name": "stderr",
     "output_type": "stream",
     "text": [
      "Some weights of PegasusForConditionalGeneration were not initialized from the model checkpoint at tuner007/pegasus_paraphrase and are newly initialized: ['model.decoder.embed_positions.weight', 'model.encoder.embed_positions.weight']\n",
      "You should probably TRAIN this model on a down-stream task to be able to use it for predictions and inference.\n"
     ]
    },
    {
     "data": {
      "application/vnd.jupyter.widget-view+json": {
       "model_id": "7e385bef779242d1afb4081a9fa6aee7",
       "version_major": 2,
       "version_minor": 0
      },
      "text/plain": [
       "tokenizer_config.json:   0%|          | 0.00/25.0 [00:00<?, ?B/s]"
      ]
     },
     "metadata": {},
     "output_type": "display_data"
    },
    {
     "data": {
      "application/vnd.jupyter.widget-view+json": {
       "model_id": "8c1813cd6e394b6cb3de0a2b1ea88657",
       "version_major": 2,
       "version_minor": 0
      },
      "text/plain": [
       "spiece.model:   0%|          | 0.00/792k [00:00<?, ?B/s]"
      ]
     },
     "metadata": {},
     "output_type": "display_data"
    },
    {
     "data": {
      "application/vnd.jupyter.widget-view+json": {
       "model_id": "dfc9f644e60f456090b431263466d437",
       "version_major": 2,
       "version_minor": 0
      },
      "text/plain": [
       "special_tokens_map.json: 0.00B [00:00, ?B/s]"
      ]
     },
     "metadata": {},
     "output_type": "display_data"
    },
    {
     "data": {
      "application/vnd.jupyter.widget-view+json": {
       "model_id": "4faae64495c745ffaf676490497d2007",
       "version_major": 2,
       "version_minor": 0
      },
      "text/plain": [
       "config.json: 0.00B [00:00, ?B/s]"
      ]
     },
     "metadata": {},
     "output_type": "display_data"
    },
    {
     "data": {
      "application/vnd.jupyter.widget-view+json": {
       "model_id": "f2823fd941834bf2aeab04763f8ac3c3",
       "version_major": 2,
       "version_minor": 0
      },
      "text/plain": [
       "model.safetensors:   0%|          | 0.00/892M [00:00<?, ?B/s]"
      ]
     },
     "metadata": {},
     "output_type": "display_data"
    },
    {
     "data": {
      "application/vnd.jupyter.widget-view+json": {
       "model_id": "348e0c7849ff4b21ad8dbcf3f5e1d472",
       "version_major": 2,
       "version_minor": 0
      },
      "text/plain": [
       "tokenizer_config.json:   0%|          | 0.00/332 [00:00<?, ?B/s]"
      ]
     },
     "metadata": {},
     "output_type": "display_data"
    },
    {
     "data": {
      "application/vnd.jupyter.widget-view+json": {
       "model_id": "06818e7b631744d2a0d496d19f2f4a33",
       "version_major": 2,
       "version_minor": 0
      },
      "text/plain": [
       "vocab.json: 0.00B [00:00, ?B/s]"
      ]
     },
     "metadata": {},
     "output_type": "display_data"
    },
    {
     "data": {
      "application/vnd.jupyter.widget-view+json": {
       "model_id": "3992e78c4bfd4670ad1fd44a71aca057",
       "version_major": 2,
       "version_minor": 0
      },
      "text/plain": [
       "merges.txt: 0.00B [00:00, ?B/s]"
      ]
     },
     "metadata": {},
     "output_type": "display_data"
    },
    {
     "data": {
      "application/vnd.jupyter.widget-view+json": {
       "model_id": "22cba67fa3844c5795e2e8f641e26ff1",
       "version_major": 2,
       "version_minor": 0
      },
      "text/plain": [
       "special_tokens_map.json:   0%|          | 0.00/239 [00:00<?, ?B/s]"
      ]
     },
     "metadata": {},
     "output_type": "display_data"
    },
    {
     "data": {
      "application/vnd.jupyter.widget-view+json": {
       "model_id": "3bcd363dd6534090897a702983a8ecf6",
       "version_major": 2,
       "version_minor": 0
      },
      "text/plain": [
       "tokenizer.json: 0.00B [00:00, ?B/s]"
      ]
     },
     "metadata": {},
     "output_type": "display_data"
    },
    {
     "data": {
      "application/vnd.jupyter.widget-view+json": {
       "model_id": "926424c821e1489e9b451790a736a001",
       "version_major": 2,
       "version_minor": 0
      },
      "text/plain": [
       "config.json: 0.00B [00:00, ?B/s]"
      ]
     },
     "metadata": {},
     "output_type": "display_data"
    },
    {
     "data": {
      "application/vnd.jupyter.widget-view+json": {
       "model_id": "6ebb30c2d2074942a6cdc39bed735034",
       "version_major": 2,
       "version_minor": 0
      },
      "text/plain": [
       "model.safetensors:   0%|          | 0.00/1.63G [00:00<?, ?B/s]"
      ]
     },
     "metadata": {},
     "output_type": "display_data"
    },
    {
     "name": "stdout",
     "output_type": "stream",
     "text": [
      "✅ Paraphrasing models loaded: PEGASUS, T5-Paraphrase, BART-Paraphrase.\n"
     ]
    },
    {
     "data": {
      "application/vnd.jupyter.widget-view+json": {
       "model_id": "fc4821b65e4b408a816d548a49bf637f",
       "version_major": 2,
       "version_minor": 0
      },
      "text/plain": [
       "modules.json:   0%|          | 0.00/349 [00:00<?, ?B/s]"
      ]
     },
     "metadata": {},
     "output_type": "display_data"
    },
    {
     "data": {
      "application/vnd.jupyter.widget-view+json": {
       "model_id": "b87f4470c24a426a8baa6561789eca70",
       "version_major": 2,
       "version_minor": 0
      },
      "text/plain": [
       "config_sentence_transformers.json:   0%|          | 0.00/116 [00:00<?, ?B/s]"
      ]
     },
     "metadata": {},
     "output_type": "display_data"
    },
    {
     "data": {
      "application/vnd.jupyter.widget-view+json": {
       "model_id": "87c8b959035047f4803ddf62c7963388",
       "version_major": 2,
       "version_minor": 0
      },
      "text/plain": [
       "README.md: 0.00B [00:00, ?B/s]"
      ]
     },
     "metadata": {},
     "output_type": "display_data"
    },
    {
     "data": {
      "application/vnd.jupyter.widget-view+json": {
       "model_id": "eeb48d41254d4e0e87b54917e6bf7d33",
       "version_major": 2,
       "version_minor": 0
      },
      "text/plain": [
       "sentence_bert_config.json:   0%|          | 0.00/53.0 [00:00<?, ?B/s]"
      ]
     },
     "metadata": {},
     "output_type": "display_data"
    },
    {
     "data": {
      "application/vnd.jupyter.widget-view+json": {
       "model_id": "3c0adddc29cf4f3fa626c6c04e5dd7fc",
       "version_major": 2,
       "version_minor": 0
      },
      "text/plain": [
       "config.json:   0%|          | 0.00/612 [00:00<?, ?B/s]"
      ]
     },
     "metadata": {},
     "output_type": "display_data"
    },
    {
     "data": {
      "application/vnd.jupyter.widget-view+json": {
       "model_id": "7a9bb089613047b2ad109341e3fddeb4",
       "version_major": 2,
       "version_minor": 0
      },
      "text/plain": [
       "model.safetensors:   0%|          | 0.00/90.9M [00:00<?, ?B/s]"
      ]
     },
     "metadata": {},
     "output_type": "display_data"
    },
    {
     "data": {
      "application/vnd.jupyter.widget-view+json": {
       "model_id": "4b81ac40d2374841aa8b7cff65402ff2",
       "version_major": 2,
       "version_minor": 0
      },
      "text/plain": [
       "tokenizer_config.json:   0%|          | 0.00/350 [00:00<?, ?B/s]"
      ]
     },
     "metadata": {},
     "output_type": "display_data"
    },
    {
     "data": {
      "application/vnd.jupyter.widget-view+json": {
       "model_id": "dcc5df0cc4df4d8ba252b972c5f6d2fe",
       "version_major": 2,
       "version_minor": 0
      },
      "text/plain": [
       "vocab.txt: 0.00B [00:00, ?B/s]"
      ]
     },
     "metadata": {},
     "output_type": "display_data"
    },
    {
     "data": {
      "application/vnd.jupyter.widget-view+json": {
       "model_id": "5131d318c8d241b28bb4fb78f0470da7",
       "version_major": 2,
       "version_minor": 0
      },
      "text/plain": [
       "tokenizer.json: 0.00B [00:00, ?B/s]"
      ]
     },
     "metadata": {},
     "output_type": "display_data"
    },
    {
     "data": {
      "application/vnd.jupyter.widget-view+json": {
       "model_id": "8b583c5d93bb455cb27157d80579ccfc",
       "version_major": 2,
       "version_minor": 0
      },
      "text/plain": [
       "special_tokens_map.json:   0%|          | 0.00/112 [00:00<?, ?B/s]"
      ]
     },
     "metadata": {},
     "output_type": "display_data"
    },
    {
     "data": {
      "application/vnd.jupyter.widget-view+json": {
       "model_id": "15c938e87ed04cd6be1562bb42525119",
       "version_major": 2,
       "version_minor": 0
      },
      "text/plain": [
       "config.json:   0%|          | 0.00/190 [00:00<?, ?B/s]"
      ]
     },
     "metadata": {},
     "output_type": "display_data"
    },
    {
     "name": "stdout",
     "output_type": "stream",
     "text": [
      "✅ Similarity model loaded.\n"
     ]
    }
   ],
   "source": [
    "#  Models\n",
    "t5_tokenizer = T5Tokenizer.from_pretrained('t5-base')\n",
    "t5_model = T5ForConditionalGeneration.from_pretrained('t5-base')\n",
    "bart_tokenizer = BartTokenizer.from_pretrained('facebook/bart-base')\n",
    "bart_model = BartForConditionalGeneration.from_pretrained('facebook/bart-base')\n",
    "pegasus_sum_tokenizer = PegasusTokenizer.from_pretrained('google/pegasus-xsum')\n",
    "pegasus_sum_model = PegasusForConditionalGeneration.from_pretrained('google/pegasus-xsum')\n",
    "\n",
    "print(\"✅ Summarization models loaded: T5, BART, PEGASUS.\")\n",
    "\n",
    "pegasus_para_tokenizer = PegasusTokenizer.from_pretrained('tuner007/pegasus_paraphrase')\n",
    "pegasus_para_model = PegasusForConditionalGeneration.from_pretrained('tuner007/pegasus_paraphrase')\n",
    "paraphrase_t5_tokenizer = T5Tokenizer.from_pretrained('Vamsi/T5_Paraphrase_Paws')\n",
    "paraphrase_t5_model = T5ForConditionalGeneration.from_pretrained('Vamsi/T5_Paraphrase_Paws')\n",
    "paraphrase_bart_tokenizer = BartTokenizer.from_pretrained('eugenesiow/bart-paraphrase')\n",
    "paraphrase_bart_model = BartForConditionalGeneration.from_pretrained('eugenesiow/bart-paraphrase')\n",
    "\n",
    "print(\"✅ Paraphrasing models loaded: PEGASUS, T5-Paraphrase, BART-Paraphrase.\")\n",
    "\n",
    "similarity_model = SentenceTransformer('all-MiniLM-L6-v2')\n",
    "print(\"✅ Similarity model loaded.\")"
   ]
  },
  {
   "cell_type": "code",
   "execution_count": 3,
   "metadata": {
    "colab": {
     "base_uri": "https://localhost:8080/"
    },
    "id": "PNMb5zSSo4Kx",
    "outputId": "f55ef179-7d02-433a-fb83-370050688282"
   },
   "outputs": [
    {
     "name": "stdout",
     "output_type": "stream",
     "text": [
      "✅ Successfully loaded text from https://www.gutenberg.org/files/11/11-0.txt (144483 characters)\n",
      "✅ Successfully loaded text from https://www.gutenberg.org/files/98/98-0.txt (773369 characters)\n",
      "Text 1 (Text file): 50,000 characters\n",
      "Preview: CHAPTER I.     Down the Rabbit-Hole\n",
      " CHAPTER II.    The Pool of Tears\n",
      " CHAPTER III.   A Caucus-Race and a Long Tale\n",
      " CHAPTER IV.    The Rabbit Sends i...\n",
      "Text 2 (Text file): 50,000 characters\n",
      "Preview: CHAPTER I      The Period\n",
      "     CHAPTER II     The Mail\n",
      "     CHAPTER III    The Night Shadows\n",
      "     CHAPTER IV     The Preparation\n",
      "     CHAPTER V   ...\n"
     ]
    }
   ],
   "source": [
    "#File URLs\n",
    "file_urls = [\n",
    "    \"https://www.gutenberg.org/files/11/11-0.txt\",    # Alice in Wonderland\n",
    "    \"https://www.gutenberg.org/files/98/98-0.txt\"     # A Tale of Two Cities\n",
    "]\n",
    "\n",
    "# Load texts\n",
    "def load_text_file(url):\n",
    "    try:\n",
    "        response = requests.get(url, timeout=30)\n",
    "        response.raise_for_status()\n",
    "        text = response.text\n",
    "        start_idx = max([text.find(marker) for marker in [\"*** START OF\", \"CHAPTER\"]] + [0])\n",
    "        end_idx = text.find(\"*** END OF\")\n",
    "        if start_idx > 0 and end_idx > 0:\n",
    "            text = text[start_idx:end_idx]\n",
    "        if len(text) < 100:\n",
    "            raise ValueError(\"Text is too short.\")\n",
    "        print(f\"✅ Successfully loaded text from {url} ({len(text)} characters)\")\n",
    "        return text.strip(), \"Text file\"\n",
    "\n",
    "    except Exception as e:\n",
    "        print(f\"Error loading text from {url}: {e}\")\n",
    "        fallback = \"Natural Language Processing enables computers to understand human language.\"\n",
    "        return fallback, \"Fallback text\"\n",
    "\n",
    "def validate_text(text):\n",
    "    if not isinstance(text, str) or len(text.strip()) < 50:\n",
    "        raise ValueError(\"Invalid text: must be a string with at least 50 characters.\")\n",
    "    return text\n",
    "\n",
    "def load_multiple_text_files(urls):\n",
    "    if len(urls) != 2:\n",
    "        raise ValueError(\"Exactly two URLs must be provided.\")\n",
    "    texts = {}\n",
    "    for i, url in enumerate(urls, 1):\n",
    "        text, source = load_text_file(url)\n",
    "        text = validate_text(text)\n",
    "        texts[f\"Text {i}\"] = {'text': text[:50000], 'source': source}  # limit size\n",
    "    return texts\n",
    "\n",
    "loaded_texts = load_multiple_text_files(file_urls)\n",
    "for key, data in loaded_texts.items():\n",
    "    print(f\"{key} ({data['source']}): {len(data['text']):,} characters\")\n",
    "    print(f\"Preview: {data['text'][:150]}...\")\n"
   ]
  },
  {
   "cell_type": "code",
   "execution_count": 4,
   "metadata": {
    "id": "9c4aQjLzo8Wr"
   },
   "outputs": [],
   "source": [
    "#T5 Summarization\n",
    "def generate_t5_summary(text, min_len=40, max_len=150, beams=4):\n",
    "    \"\"\"Abstractive summarization with T5.\"\"\"\n",
    "    input_text = \"summarize: \" + text.strip().replace(\"\\n\", \" \")\n",
    "    inputs = t5_tokenizer.encode(input_text, return_tensors='pt', max_length=1024, truncation=True)\n",
    "    summary_ids = t5_model.generate(\n",
    "        inputs,\n",
    "        max_length=max_len,\n",
    "        min_length=min_len,\n",
    "        num_beams=beams,\n",
    "        no_repeat_ngram_size=3,\n",
    "        length_penalty=2.0,\n",
    "        early_stopping=True\n",
    "    )\n",
    "    return t5_tokenizer.decode(summary_ids[0], skip_special_tokens=True)\n",
    "\n",
    "def clean_text(text):\n",
    "    \"\"\"Remove special characters and normalize whitespace.\"\"\"\n",
    "    text = re.sub(r'[^\\x00-\\x7F]+', ' ', text)  # Remove non-ASCII characters\n",
    "    text = re.sub(r'\\s+', ' ', text)  # Normalize whitespace\n",
    "    return text.strip()"
   ]
  },
  {
   "cell_type": "code",
   "execution_count": 5,
   "metadata": {
    "id": "QLkHeEWXo_Zy"
   },
   "outputs": [],
   "source": [
    "#Bart Summarization\n",
    "def generate_bart_summary(text, min_len=40, max_len=150, beams=4):\n",
    "    \"\"\"Abstractive summarization with BART.\"\"\"\n",
    "    inputs = bart_tokenizer.encode(text, return_tensors='pt', max_length=1024, truncation=True)\n",
    "    summary_ids = bart_model.generate(\n",
    "        inputs,\n",
    "        max_length=max_len,\n",
    "        min_length=min_len,\n",
    "        num_beams=beams,\n",
    "        no_repeat_ngram_size=3,\n",
    "        length_penalty=2.0,\n",
    "        early_stopping=True\n",
    "    )\n",
    "    return bart_tokenizer.decode(summary_ids[0], skip_special_tokens=True)"
   ]
  },
  {
   "cell_type": "code",
   "execution_count": 6,
   "metadata": {
    "id": "CqMONYgzpFSV"
   },
   "outputs": [],
   "source": [
    "#Pegasus Summarization\n",
    "def generate_pegasus_summary(text, min_len=40, max_len=150, beams=4):\n",
    "    \"\"\"Abstractive summarization with PEGASUS.\"\"\"\n",
    "    # Clean and truncate input to prevent tokenization issues\n",
    "    text = clean_text(text[:1500])  # Stricter truncation to 1500 chars\n",
    "    try:\n",
    "        inputs = pegasus_sum_tokenizer.encode(\n",
    "            text,\n",
    "            return_tensors='pt',\n",
    "            max_length=512,  # Reduced max_length for safety\n",
    "            truncation=True,\n",
    "            padding='max_length'  # Ensure consistent input size\n",
    "        )\n",
    "        # Validate token IDs\n",
    "        if inputs.max().item() >= pegasus_sum_tokenizer.vocab_size:\n",
    "            raise ValueError(f\"Token ID {inputs.max().item()} exceeds vocab size {pegasus_sum_tokenizer.vocab_size}.\")\n",
    "        summary_ids = pegasus_sum_model.generate(\n",
    "            inputs,\n",
    "            max_length=max_len,\n",
    "            min_length=min_len,\n",
    "            num_beams=beams,\n",
    "            no_repeat_ngram_size=3,\n",
    "            length_penalty=2.0,\n",
    "            early_stopping=True\n",
    "        )\n",
    "        return pegasus_sum_tokenizer.decode(summary_ids[0], skip_special_tokens=True)\n",
    "    except Exception as e:\n",
    "        print(f\"PEGASUS summarization failed: {e}\")\n",
    "        return \"Summary unavailable due to processing error.\""
   ]
  },
  {
   "cell_type": "code",
   "execution_count": 7,
   "metadata": {
    "id": "UpWotLO_pImd"
   },
   "outputs": [],
   "source": [
    "#Pegasus Paraphrasing\n",
    "def generate_pegasus_paraphrase(text, num_return=3, beams=10):\n",
    "    \"\"\"Generate paraphrases with PEGASUS.\"\"\"\n",
    "    inputs = pegasus_para_tokenizer.encode(text, return_tensors='pt', truncation=True, max_length=60)\n",
    "    paraphrase_ids = pegasus_para_model.generate(\n",
    "        inputs,\n",
    "        max_length=60,\n",
    "        num_beams=beams,\n",
    "        num_return_sequences=num_return,\n",
    "        early_stopping=True\n",
    "    )\n",
    "    return pegasus_para_tokenizer.batch_decode(paraphrase_ids, skip_special_tokens=True)"
   ]
  },
  {
   "cell_type": "code",
   "execution_count": 8,
   "metadata": {
    "id": "Jf9xHlN9pLjn"
   },
   "outputs": [],
   "source": [
    "#T5 paraphrasing\n",
    "def generate_t5_paraphrase(text, num_return=3, beams=10):\n",
    "    \"\"\"Generate paraphrases with T5-Paraphrase.\"\"\"\n",
    "    input_text = f\"paraphrase: {text} </s>\"\n",
    "    inputs = paraphrase_t5_tokenizer.encode(input_text, return_tensors='pt', max_length=512, truncation=True)\n",
    "    paraphrase_ids = paraphrase_t5_model.generate(\n",
    "        inputs,\n",
    "        max_length=60,\n",
    "        num_beams=beams,\n",
    "        num_return_sequences=num_return,\n",
    "        early_stopping=True\n",
    "    )\n",
    "    return paraphrase_t5_tokenizer.batch_decode(paraphrase_ids, skip_special_tokens=True)"
   ]
  },
  {
   "cell_type": "code",
   "execution_count": 9,
   "metadata": {
    "id": "vSSQxf26pO3V"
   },
   "outputs": [],
   "source": [
    "#BART Paraphrasing\n",
    "def generate_bart_paraphrase(text, num_return=3, beams=10):\n",
    "    \"\"\"Generate paraphrases with BART-Paraphrase.\"\"\"\n",
    "    inputs = paraphrase_bart_tokenizer.encode(text, return_tensors='pt', truncation=True, max_length=60)\n",
    "    paraphrase_ids = paraphrase_bart_model.generate(\n",
    "        inputs,\n",
    "        max_length=60,\n",
    "        num_beams=beams,\n",
    "        num_return_sequences=num_return,\n",
    "        early_stopping=True\n",
    "    )\n",
    "    return paraphrase_bart_tokenizer.batch_decode(paraphrase_ids, skip_special_tokens=True)"
   ]
  },
  {
   "cell_type": "code",
   "execution_count": 10,
   "metadata": {
    "id": "X7EO0QtgpPtl"
   },
   "outputs": [],
   "source": [
    "#Similarity Analysis\n",
    "def compute_similarity(text1, text2):\n",
    "    \"\"\"Compute cosine similarity between texts.\"\"\"\n",
    "    embeddings = similarity_model.encode([text1, text2])\n",
    "    return cosine_similarity([embeddings[0]], [embeddings[1]])[0][0]\n",
    "\n",
    "#Enhanced Model Comparison\n",
    "def analyze_summary_length(summary):\n",
    "    \"\"\"Compute word count of summary.\"\"\"\n",
    "    return len(summary.split())  # Simple split instead of NLTK tokenization\n",
    "\n",
    "#Similarity to Original\n",
    "def similarity_to_original(summary, original_text):\n",
    "    \"\"\"Compute similarity between summary and original.\"\"\"\n",
    "    return compute_similarity(summary, original_text[:2000])"
   ]
  },
  {
   "cell_type": "code",
   "execution_count": 11,
   "metadata": {
    "id": "N8Q1QdY2pSRN"
   },
   "outputs": [],
   "source": [
    "#Enhanced Summarization Comparison\n",
    "def compare_summarizers_enhanced(text, min_len=40, max_len=150, beams=4):\n",
    "    \"\"\"Enhanced comparison of T5, BART, and PEGASUS for summarization.\"\"\"\n",
    "    t5_sum = generate_t5_summary(text[:2000], min_len, max_len, beams)\n",
    "    bart_sum = generate_bart_summary(text[:2000], min_len, max_len, beams)\n",
    "    pegasus_sum = generate_pegasus_summary(text[:2000], min_len, max_len, beams)\n",
    "\n",
    "    metrics = {\n",
    "        't5': {\n",
    "            'summary': t5_sum,\n",
    "            'length': analyze_summary_length(t5_sum),\n",
    "            'sim_to_original': similarity_to_original(t5_sum, text)\n",
    "        },\n",
    "        'bart': {\n",
    "            'summary': bart_sum,\n",
    "            'length': analyze_summary_length(bart_sum),\n",
    "            'sim_to_original': similarity_to_original(bart_sum, text)\n",
    "        },\n",
    "        'pegasus': {\n",
    "            'summary': pegasus_sum,\n",
    "            'length': analyze_summary_length(pegasus_sum),\n",
    "            'sim_to_original': similarity_to_original(pegasus_sum, text)\n",
    "        },\n",
    "        'sim_t5_bart': compute_similarity(t5_sum, bart_sum),\n",
    "        'sim_t5_pegasus': compute_similarity(t5_sum, pegasus_sum),\n",
    "        'sim_bart_pegasus': compute_similarity(bart_sum, pegasus_sum)\n",
    "    }\n",
    "\n",
    "    print(\"----------- Enhanced Summarization Comparison -----------\")\n",
    "    print(f\"T5 Summary (Length: {metrics['t5']['length']}, Sim to Original: {metrics['t5']['sim_to_original']:.3f}):\")\n",
    "    print(textwrap.fill(t5_sum, width=100))\n",
    "    print(f\"\\nBART Summary (Length: {metrics['bart']['length']}, Sim to Original: {metrics['bart']['sim_to_original']:.3f}):\")\n",
    "    print(textwrap.fill(bart_sum, width=100))\n",
    "    print(f\"\\nPEGASUS Summary (Length: {metrics['pegasus']['length']}, Sim to Original: {metrics['pegasus']['sim_to_original']:.3f}):\")\n",
    "    print(textwrap.fill(pegasus_sum, width=100))\n",
    "    print(f\"\\nSimilarity T5 vs BART: {metrics['sim_t5_bart']:.3f}\")\n",
    "    print(f\"Similarity T5 vs PEGASUS: {metrics['sim_t5_pegasus']:.3f}\")\n",
    "    print(f\"Similarity BART vs PEGASUS: {metrics['sim_bart_pegasus']:.3f}\")\n",
    "\n",
    "    return metrics"
   ]
  },
  {
   "cell_type": "code",
   "execution_count": 12,
   "metadata": {
    "id": "2uz5pzRtpW-O"
   },
   "outputs": [],
   "source": [
    "#Enhanced Paraphrasing Comparison\n",
    "def compare_paraphrasers_enhanced(text, num_return=3, beams=10):\n",
    "    \"\"\"Enhanced comparison of PEGASUS, T5-Paraphrase, and BART-Paraphrase.\"\"\"\n",
    "    peg_paras = generate_pegasus_paraphrase(text, num_return, beams)\n",
    "    t5_paras = generate_t5_paraphrase(text, num_return, beams)\n",
    "    bart_paras = generate_bart_paraphrase(text, num_return, beams)\n",
    "\n",
    "    metrics = {\n",
    "        'pegasus': {\n",
    "            'paraphrases': peg_paras,\n",
    "            'avg_length': sum(len(p.split()) for p in peg_paras) / len(peg_paras),\n",
    "            'avg_sim_to_original': sum(compute_similarity(p, text) for p in peg_paras) / len(peg_paras)\n",
    "        },\n",
    "        't5_paraphrase': {\n",
    "            'paraphrases': t5_paras,\n",
    "            'avg_length': sum(len(p.split()) for p in t5_paras) / len(t5_paras),\n",
    "            'avg_sim_to_original': sum(compute_similarity(p, text) for p in t5_paras) / len(t5_paras)\n",
    "        },\n",
    "        'bart_paraphrase': {\n",
    "            'paraphrases': bart_paras,\n",
    "            'avg_length': sum(len(p.split()) for p in bart_paras) / len(bart_paras),\n",
    "            'avg_sim_to_original': sum(compute_similarity(p, text) for p in bart_paras) / len(bart_paras)\n",
    "        },\n",
    "        'avg_sim_peg_t5': sum(compute_similarity(peg_paras[i], t5_paras[i]) for i in range(num_return)) / num_return,\n",
    "        'avg_sim_peg_bart': sum(compute_similarity(peg_paras[i], bart_paras[i]) for i in range(num_return)) / num_return,\n",
    "        'avg_sim_t5_bart': sum(compute_similarity(t5_paras[i], bart_paras[i]) for i in range(num_return)) / num_return\n",
    "    }\n",
    "\n",
    "    print(\"----------- Enhanced Paraphrasing Comparison -----------\")\n",
    "    print(f\"PEGASUS Paraphrases (Avg Length: {metrics['pegasus']['avg_length']:.1f}, Avg Sim to Original: {metrics['pegasus']['avg_sim_to_original']:.3f}):\")\n",
    "    for i, p in enumerate(peg_paras, 1):\n",
    "        print(f\"  {i}. {p}\")\n",
    "    print(f\"\\nT5-Paraphrase Paraphrases (Avg Length: {metrics['t5_paraphrase']['avg_length']:.1f}, Avg Sim to Original: {metrics['t5_paraphrase']['avg_sim_to_original']:.3f}):\")\n",
    "    for i, p in enumerate(t5_paras, 1):\n",
    "        print(f\"  {i}. {p}\")\n",
    "    print(f\"\\nBART-Paraphrase Paraphrases (Avg Length: {metrics['bart_paraphrase']['avg_length']:.1f}, Avg Sim to Original: {metrics['bart_paraphrase']['avg_sim_to_original']:.3f}):\")\n",
    "    for i, p in enumerate(bart_paras, 1):\n",
    "        print(f\"  {i}. {p}\")\n",
    "    print(f\"\\nAverage Similarity PEGASUS vs T5-Paraphrase: {metrics['avg_sim_peg_t5']:.3f}\")\n",
    "    print(f\"Average Similarity PEGASUS vs BART-Paraphrase: {metrics['avg_sim_peg_bart']:.3f}\")\n",
    "    print(f\"Average Similarity T5-Paraphrase vs BART-Paraphrase: {metrics['avg_sim_t5_bart']:.3f}\")\n",
    "\n",
    "    return metrics"
   ]
  },
  {
   "cell_type": "code",
   "execution_count": 13,
   "metadata": {
    "id": "cBbhQF1lpczu"
   },
   "outputs": [],
   "source": [
    "#Integrated TextMorph Pipeline\n",
    "#Pipeline Initialization\n",
    "class TextMorphPipeline:\n",
    "    \"\"\"Streamlined TextMorph pipeline for text files, no preprocessing or NLP.\"\"\"\n",
    "\n",
    "    def __init__(self):\n",
    "        self.reference_texts = []\n",
    "\n",
    "    def add_reference(self, text):\n",
    "        \"\"\"Add reference text for similarity.\"\"\"\n",
    "        self.reference_texts.append(text)\n",
    "\n",
    "#Pipeline Summarization\n",
    "def pipeline_summarize(self, input_text, summarizer='t5'):\n",
    "    \"\"\"Summarization step in pipeline.\"\"\"\n",
    "    if summarizer == 't5':\n",
    "        summary = generate_t5_summary(input_text)\n",
    "    elif summarizer == 'bart':\n",
    "        summary = generate_bart_summary(input_text)\n",
    "    elif summarizer == 'pegasus':\n",
    "        summary = generate_pegasus_summary(input_text)\n",
    "    else:\n",
    "        raise ValueError(\"Invalid summarizer. Choose 't5', 'bart', or 'pegasus'.\")\n",
    "    return summary, summarizer\n",
    "\n",
    "#Pipeline Paraphrasing\n",
    "def pipeline_paraphrase(self, input_text, paraphrase_sentences=2):\n",
    "    \"\"\"Paraphrasing step with comparison.\"\"\"\n",
    "    # Simple sentence splitting without NLTK\n",
    "    sentences = re.split(r'[.!?]+', input_text)[:paraphrase_sentences]\n",
    "    sentences = [s.strip() for s in sentences if s.strip()]\n",
    "    paraphrases = {}\n",
    "    for i, sent in enumerate(sentences):\n",
    "        key = f'Sentence {i+1}'\n",
    "        metrics = compare_paraphrasers_enhanced(sent)\n",
    "        paraphrases[key] = {'original': sent[:100] + \"...\", 'metrics': metrics}\n",
    "    return paraphrases\n",
    "\n",
    "#Pipeline Similarity Step\n",
    "def pipeline_similarity(self, input_text, top_k_similar=2):\n",
    "    \"\"\"Similarity step in pipeline.\"\"\"\n",
    "    if self.reference_texts:\n",
    "        similarities = [(i+1, compute_similarity(input_text[:2000], ref)) for i, ref in enumerate(self.reference_texts)]\n",
    "        similarities.sort(key=lambda x: x[1], reverse=True)\n",
    "        return similarities[:top_k_similar]\n",
    "    return []\n"
   ]
  },
  {
   "cell_type": "code",
   "execution_count": 14,
   "metadata": {
    "id": "C6eYcDiWpf6i"
   },
   "outputs": [],
   "source": [
    "#Full Pipeline Process\n",
    "def process(self, input_text, summarizer='t5', paraphrase_sentences=2, top_k_similar=2):\n",
    "    \"\"\"Run the full pipeline.\"\"\"\n",
    "    results = {}\n",
    "\n",
    "    summary, used_summarizer = pipeline_summarize(self, input_text, summarizer)\n",
    "    results['summary'] = summary\n",
    "    results['summarizer_used'] = used_summarizer\n",
    "\n",
    "    results['paraphrases'] = pipeline_paraphrase(self, input_text, paraphrase_sentences)\n",
    "\n",
    "    results['similarities'] = pipeline_similarity(self, input_text, top_k_similar)\n",
    "\n",
    "    return results\n",
    "\n",
    "# Bind methods to class\n",
    "TextMorphPipeline.pipeline_summarize = pipeline_summarize\n",
    "TextMorphPipeline.pipeline_paraphrase = pipeline_paraphrase\n",
    "TextMorphPipeline.pipeline_similarity = pipeline_similarity\n",
    "TextMorphPipeline.process = process\n",
    "\n",
    "# Initialize\n",
    "pipeline = TextMorphPipeline()"
   ]
  },
  {
   "cell_type": "code",
   "execution_count": 25,
   "metadata": {
    "colab": {
     "base_uri": "https://localhost:8080/"
    },
    "id": "qUA8hE-dpgyb",
    "outputId": "e4ef612c-6d02-46eb-9ad2-a1bf2cd41736"
   },
   "outputs": [
    {
     "name": "stdout",
     "output_type": "stream",
     "text": [
      "✅ Reference texts added.\n",
      "----------- Enhanced Paraphrasing Comparison -----------\n",
      "PEGASUS Paraphrases (Avg Length: 2.3, Avg Sim to Original: 0.916):\n",
      "  1. Chapter I.\n",
      "  2. Chapter I\n",
      "  3. Chapter I begins.\n",
      "\n",
      "T5-Paraphrase Paraphrases (Avg Length: 2.0, Avg Sim to Original: 0.551):\n",
      "  1. CHAPTER I\n",
      "  2. CHAPITRE I\n",
      "  3. CHAPTTER I\n",
      "\n",
      "BART-Paraphrase Paraphrases (Avg Length: 2.3, Avg Sim to Original: 0.913):\n",
      "  1. CHAPTER I\n",
      "  2. CHAPTER 1\n",
      "  3. CHAPTER _ I\n",
      "\n",
      "Average Similarity PEGASUS vs T5-Paraphrase: 0.507\n",
      "Average Similarity PEGASUS vs BART-Paraphrase: 0.836\n",
      "Average Similarity T5-Paraphrase vs BART-Paraphrase: 0.499\n",
      "----------- Enhanced Paraphrasing Comparison -----------\n",
      "PEGASUS Paraphrases (Avg Length: 7.0, Avg Sim to Original: 0.883):\n",
      "  1. Chapter 2 of Down the Rabbit-Hole.\n",
      "  2. Chapter 2 is called Down the Rabbit-Hole.\n",
      "  3. The second chapter is called Down the Rabbit-Hole.\n",
      "\n",
      "T5-Paraphrase Paraphrases (Avg Length: 4.7, Avg Sim to Original: 0.990):\n",
      "  1. Down the Rabbit-Hole CHAPTER II\n",
      "  2. Down Rabbit-Hole CHAPTER II\n",
      "  3. Down the rabbit-hole CHAPTER II\n",
      "\n",
      "BART-Paraphrase Paraphrases (Avg Length: 5.7, Avg Sim to Original: 0.986):\n",
      "  1. Down the rabbit hole CHAPTER II\n",
      "  2. Down the rabbit hole chapter II\n",
      "  3. Down the rabbit-hole CHAPTER II\n",
      "\n",
      "Average Similarity PEGASUS vs T5-Paraphrase: 0.873\n",
      "Average Similarity PEGASUS vs BART-Paraphrase: 0.879\n",
      "Average Similarity T5-Paraphrase vs BART-Paraphrase: 0.978\n",
      "----------- T5 on First Text (Frankenstein) -----------\n",
      "Summary: the rabbit-hole went straight on like a tunnel for some way, and then dipped suddenly down . \"I\n",
      "wonder how many miles I’ve fallen by this time,\" said Alice . the rabbit was a sailor, but she had\n",
      "no idea what latitude or longitude she had got to .\n"
     ]
    }
   ],
   "source": [
    "#Testing with Text Files\n",
    "#Add Reference Texts\n",
    "# Suppress warnings for this block\n",
    "with warnings.catch_warnings():\n",
    "    warnings.simplefilter(\"ignore\")\n",
    "\n",
    "    # Testing with Text Files\n",
    "    # Add Reference Texts\n",
    "    pipeline.add_reference(\"Natural Language Processing powers modern AI applications.\")\n",
    "    pipeline.add_reference(\"Machine learning enhances text analysis capabilities.\")\n",
    "    print(\"✅ Reference texts added.\")\n",
    "\n",
    "    # Process First Text(T5)\n",
    "    first_text = loaded_texts['Text 1']['text']\n",
    "    results_t5_first = pipeline.process(first_text, summarizer='t5')\n",
    "    print(\"----------- T5 on First Text (Frankenstein) -----------\")\n",
    "    print(f\"Summary: {textwrap.fill(results_t5_first['summary'], width=100)}\")\n"
   ]
  },
  {
   "cell_type": "code",
   "execution_count": 26,
   "metadata": {
    "colab": {
     "base_uri": "https://localhost:8080/"
    },
    "id": "biCTMZv8pph0",
    "outputId": "bd494d16-907d-4714-e9b4-ec6eaca84d08"
   },
   "outputs": [
    {
     "name": "stdout",
     "output_type": "stream",
     "text": [
      "----------- Enhanced Paraphrasing Comparison -----------\n",
      "PEGASUS Paraphrases (Avg Length: 24.3, Avg Sim to Original: 0.713):\n",
      "  1. CHAPTER I The Period, CHAPTER II The Mail, CHAPTER III The Night Shadows, CHAPTER IV The Golden Thread, and CHAPTER VI The Wine-shop.\n",
      "  2. CHAPTER I The Period, CHAPTER II The Mail, CHAPTER III The Night Shadows, CHAPTER IV The Golden Thread, CHAPTER VI The Wine-shop, and a Disappointment.\n",
      "  3. CHAPTER I The Period, CHAPTER II The Mail, CHAPTER III The Night Shadows, CHAPTER IV The Golden Thread, and CHAPTER VI The Wine-shop are included.\n",
      "\n",
      "T5-Paraphrase Paraphrases (Avg Length: 37.0, Avg Sim to Original: 0.793):\n",
      "  1. CHAPTER I The Period CHAPTER II The Mail CHAPTER III The Night Shadows CHAPTER IV The Preparation CHAPTER V The Wine Shop CHAPTER VI The Shoemaker Book the Second Golden Thread CHAPTER I Five Years Later CHAPTER II\n",
      "  2. CHAPTER I The Period CHAPTER II The Mail CHAPTER III The Night Shadows CHAPTER IV The Preparation CHAPTER V The Wine-shop CHAPTER VI The Shoemaker Book the Second Golden Thread CHAPTER I Five Years Later CHAPTER\n",
      "  3. CHAPTER I The Period CHAPTER II The Mail CHAPTER III The Night Shadows CHAPTER IV The Preparation CHAPTER VI The Shoemaker Book the Second Golden Thread CHAPTER I Five Years Later CHAPTER II A Sight CHAPTER III\n",
      "\n",
      "BART-Paraphrase Paraphrases (Avg Length: 20.3, Avg Sim to Original: 0.704):\n",
      "  1. CHAPTER I    _   The period\t\t\t, CHAPTER II   -  The Mail553, The Night Shadows2015, The Preparation2015\t, The CHAPTER IV\n",
      "  2. CHAPTER I    _   The period\t\t\t, CHAPTER II   -  The Mail553, The Night Shadows2015, The Preparation2015\t, The CHAPTER IV   )\n",
      "  3. CHAPTER I    _   The period\t\t\t, CHAPTER II   -  The Mail553, The Night Shadows2015, The Preparation2015\t, The CHAPTER IV  \n",
      "\n",
      "Average Similarity PEGASUS vs T5-Paraphrase: 0.831\n",
      "Average Similarity PEGASUS vs BART-Paraphrase: 0.782\n",
      "Average Similarity T5-Paraphrase vs BART-Paraphrase: 0.770\n",
      "----------- Enhanced Paraphrasing Comparison -----------\n",
      "PEGASUS Paraphrases (Avg Length: 24.3, Avg Sim to Original: 0.766):\n",
      "  1. It was the best of times, it was the worst of times, it was the age of foolishness, and it was the season of Light.\n",
      "  2. It was the best of times, the worst of times, the age of wisdom, the age of foolishness, and the season of Light.\n",
      "  3. It was the best of times, it was the worst of times, it was the age of foolishness, and it was the season of light.\n",
      "\n",
      "T5-Paraphrase Paraphrases (Avg Length: 44.7, Avg Sim to Original: 0.869):\n",
      "  1. The period It was the best of times, it was the worst of times, it was the age of wisdom, it was the age of foolishness, it was the epoch of belief, it was the epoch of incredulity, it was the season of\n",
      "  2. The Period It was the best of times, it was the worst of times, it was the age of wisdom, it was the age of foolishness, it was the epoch of belief, it was the epoch of incredulity, it was the season of\n",
      "  3. The period It was the best of times, it was the worst of times, it was the age of wisdom, it was the age of foolishness, it was the age of belief, it was the age of incredulity, it was the season of light, it was the season\n",
      "\n",
      "BART-Paraphrase Paraphrases (Avg Length: 27.0, Avg Sim to Original: 0.693):\n",
      "  1. The period 2015-2016 was the best of times, the worst of times. It was the age of the foolishness, it was the epoch of belief.\n",
      "  2. The period 2015-2016 was the best of times, the worst of times. It was the age of the foolishness, it was the epoch of the belief.\n",
      "  3. The period 2015-2016 was the best of times, the worst of times. It was the age of the foolishness, the epoch of the belief, it was the epoch the incredulity.\n",
      "\n",
      "Average Similarity PEGASUS vs T5-Paraphrase: 0.831\n",
      "Average Similarity PEGASUS vs BART-Paraphrase: 0.722\n",
      "Average Similarity T5-Paraphrase vs BART-Paraphrase: 0.717\n",
      "----------- PEGASUS on Second Text (Pride and Prejudice) -----------\n",
      "Summary: A selection of the most read stories of the week from the BBC News website, as selected by our team\n",
      "of award-winning writers and journalists..Continued courtesy of the BBC, BBC Sport and the BBC World\n",
      "Service\n"
     ]
    }
   ],
   "source": [
    "# Suppress warnings for this block only\n",
    "with warnings.catch_warnings():\n",
    "    warnings.simplefilter(\"ignore\")\n",
    "\n",
    "    # Process Second Text (PEGASUS)\n",
    "    second_text = loaded_texts['Text 2']['text']\n",
    "    results_pegasus_second = pipeline.process(second_text, summarizer='pegasus')\n",
    "    print(\"----------- PEGASUS on Second Text (Pride and Prejudice) -----------\")\n",
    "    print(f\"Summary: {textwrap.fill(results_pegasus_second['summary'], width=100)}\")"
   ]
  },
  {
   "cell_type": "code",
   "execution_count": 17,
   "metadata": {
    "colab": {
     "base_uri": "https://localhost:8080/"
    },
    "id": "V-GJqzsDpsv7",
    "outputId": "86a0a1b9-6799-4ab8-8a8c-8dc1307a055f"
   },
   "outputs": [
    {
     "name": "stdout",
     "output_type": "stream",
     "text": [
      "----------- Enhanced Summarization Comparison on First Text -----------\n",
      "----------- Enhanced Summarization Comparison -----------\n",
      "T5 Summary (Length: 39, Sim to Original: 0.579):\n",
      "the rabbit-hole went straight on like a tunnel for so long . the rabbit snatched a watch out of its\n",
      "waistcoat-pocket and hurried on . it was a pity that the rabbit didn't know what it was doing .\n",
      "\n",
      "BART Summary (Length: 76, Sim to Original: 0.700):\n",
      "CHAPTER I.    … Down the Rabbit-Hole� CHAPTER II. Â  The Pool of Tears� CHAMPION CHAPTER III. I  A\n",
      "Caucus-Race and a Long Tale of the Rabbit’s Story▬ CHAPTER IV. ,  The Rabbit Sends in a Little\n",
      "Billing-Basket, CHAPTER V.  �   Advice from a Caterpillar on the Road to the White Rabbit's\n",
      "House,CHAPTER VI,   Pig and Pepper Channels CHAPTER VII.  … A Mad Tea-Party, ChannelsCHAPTER VIII.\n",
      "The Queen and Her Croquet-Ground ChannelsChannelsCHAT CHAPTER IX.  !  The Mock\n",
      "\n",
      "PEGASUS Summary (Length: 34, Sim to Original: 0.385):\n",
      "Alice's Adventures in Wonderland is published by Little, Brown and Company, a division of The Walt\n",
      "Disney Company, on 7 March 2017 in the United States, and on 15 March 2016 in the UK.\n",
      "\n",
      "Similarity T5 vs BART: 0.538\n",
      "Similarity T5 vs PEGASUS: 0.164\n",
      "Similarity BART vs PEGASUS: 0.269\n",
      "----------- Enhanced Summarization Comparison on Second Text -----------\n",
      "----------- Enhanced Summarization Comparison -----------\n",
      "T5 Summary (Length: 31, Sim to Original: 0.216):\n",
      "the Period It was the best of times, it was the worst of times . the period was the epoch of wisdom\n",
      "and foolishness, the age of belief and incredulity .\n",
      "\n",
      "BART Summary (Length: 66, Sim to Original: 0.623):\n",
      "CHAPTER I    D   The Period Palestin Palestin Palestin�   CHAPTER II  Â  The Mail Leban Leban Leban\n",
      "(  CH CHAPTER III   , The Mail Palestin\n",
      "Palestin\\\\\\\\\\\\\\\\\\\\\\\\\\\\\\\\\\\\\\\\\\\\\\\\\\\\\\\\\\\\\\\\\\\\\\\\\\\\\\\\\\\\\\\\\\\\\\\\\\\\\\\\\\\\\\\\, CHAPTER IV   d  The Night\n",
      "Shadows��  ChAPTER V  ,  The Preparation Palestin Palestin exting exting exting,   chAPTER VI   la\n",
      "The Wine-shop Palestin PalestinChAPTER VII’   A New Year’s Eve ChAPTER I’m the First--Recalled to\n",
      "Life�▬   18 CHAPTER VII   Victorious ChAPTER XI  ________________\n",
      "\n",
      "PEGASUS Summary (Length: 36, Sim to Original: 0.177):\n",
      "A selection of the most read stories of the week from the BBC News website, as selected by our team\n",
      "of award-winning writers and journalists..Continued courtesy of the BBC, BBC Sport and the BBC World\n",
      "Service\n",
      "\n",
      "Similarity T5 vs BART: 0.243\n",
      "Similarity T5 vs PEGASUS: 0.107\n",
      "Similarity BART vs PEGASUS: 0.133\n"
     ]
    }
   ],
   "source": [
    "#Enhanced Comparison on Both Texts\n",
    "print(\"----------- Enhanced Summarization Comparison on First Text -----------\")\n",
    "comparison_first = compare_summarizers_enhanced(first_text)\n",
    "print(\"----------- Enhanced Summarization Comparison on Second Text -----------\")\n",
    "comparison_second = compare_summarizers_enhanced(second_text)"
   ]
  },
  {
   "cell_type": "code",
   "execution_count": 18,
   "metadata": {
    "colab": {
     "base_uri": "https://localhost:8080/",
     "height": 623
    },
    "id": "l3t4aW8YpwNI",
    "outputId": "18db4f3b-dfea-406c-ac8a-8c1b41630906"
   },
   "outputs": [
    {
     "data": {
      "image/png": "[encoded data removed]",
      "text/plain": [
       "<Figure size 1000x500 with 2 Axes>"
      ]
     },
     "metadata": {},
     "output_type": "display_data"
    },
    {
     "data": {
      "image/png": "[encoded data removed]",
      "text/plain": [
       "<Figure size 1000x500 with 2 Axes>"
      ]
     },
     "metadata": {},
     "output_type": "display_data"
    }
   ],
   "source": [
    "#Visualization & Insights\n",
    "#Visualize T5 vs BART vs PEGASUS Summarization metrics\n",
    "def plot_enhanced_summarization_comparison(metrics, title=\"Summarization Comparison\"):\n",
    "    \"\"\"Plot enhanced metrics for summarization models.\"\"\"\n",
    "    fig, (ax1, ax2) = plt.subplots(1, 2, figsize=(10, 5))\n",
    "\n",
    "    # Length\n",
    "    ax1.bar(['T5', 'BART', 'PEGASUS'],\n",
    "            [metrics['t5']['length'], metrics['bart']['length'], metrics['pegasus']['length']],\n",
    "            color='gold')\n",
    "    ax1.set_title('Summary Length')\n",
    "\n",
    "    # Similarity to Original\n",
    "    ax2.bar(['T5', 'BART', 'PEGASUS'],\n",
    "            [metrics['t5']['sim_to_original'],\n",
    "             metrics['bart']['sim_to_original'],\n",
    "             metrics['pegasus']['sim_to_original']],\n",
    "            color='lightcoral')\n",
    "    ax2.set_title('Similarity to Original')\n",
    "\n",
    "    plt.suptitle(title, fontsize=14)\n",
    "    plt.tight_layout(rect=[0, 0, 1, 0.95])\n",
    "    plt.show()\n",
    "\n",
    "plot_enhanced_summarization_comparison(comparison_first, title=\"Summarization Comparison (Alice in Wonderland)\")\n",
    "plot_enhanced_summarization_comparison(comparison_second, title=\"Summarization Comparison (A Tale of Two Cities)\")"
   ]
  },
  {
   "cell_type": "code",
   "execution_count": 27,
   "metadata": {
    "colab": {
     "base_uri": "https://localhost:8080/",
     "height": 650
    },
    "id": "4ytpMMJ8p2Dg",
    "outputId": "104c84cc-df95-47cb-ee6b-8a4aa8a2f8ef"
   },
   "outputs": [
    {
     "name": "stdout",
     "output_type": "stream",
     "text": [
      "----------- Enhanced Paraphrasing Comparison -----------\n",
      "PEGASUS Paraphrases (Avg Length: 2.3, Avg Sim to Original: 0.916):\n",
      "  1. Chapter I.\n",
      "  2. Chapter I\n",
      "  3. Chapter I begins.\n",
      "\n",
      "T5-Paraphrase Paraphrases (Avg Length: 2.0, Avg Sim to Original: 0.551):\n",
      "  1. CHAPTER I\n",
      "  2. CHAPITRE I\n",
      "  3. CHAPTTER I\n",
      "\n",
      "BART-Paraphrase Paraphrases (Avg Length: 2.3, Avg Sim to Original: 0.913):\n",
      "  1. CHAPTER I\n",
      "  2. CHAPTER 1\n",
      "  3. CHAPTER _ I\n",
      "\n",
      "Average Similarity PEGASUS vs T5-Paraphrase: 0.507\n",
      "Average Similarity PEGASUS vs BART-Paraphrase: 0.836\n",
      "Average Similarity T5-Paraphrase vs BART-Paraphrase: 0.499\n"
     ]
    },
    {
     "data": {
      "image/png": "[encoded data removed]",
      "text/plain": [
       "<Figure size 1000x500 with 2 Axes>"
      ]
     },
     "metadata": {},
     "output_type": "display_data"
    }
   ],
   "source": [
    "#Visualize PEGASUS vs T5-Paraphrase vs BART-Paraphrase metrics\n",
    "def plot_enhanced_paraphrasing_comparison(metrics, title=\"Paraphrasing Comparison\"):\n",
    "    \"\"\"Plot enhanced metrics for paraphrasing models.\"\"\"\n",
    "    fig, (ax1, ax2) = plt.subplots(1, 2, figsize=(10, 5))\n",
    "\n",
    "    # Average Length\n",
    "    ax1.bar(['PEGASUS', 'T5-Paraphrase', 'BART-Paraphrase'],\n",
    "            [metrics['pegasus']['avg_length'],\n",
    "             metrics['t5_paraphrase']['avg_length'],\n",
    "             metrics['bart_paraphrase']['avg_length']],\n",
    "            color='gold')\n",
    "    ax1.set_title('Average Paraphrase Length')\n",
    "\n",
    "    # Average Similarity to Original\n",
    "    ax2.bar(['PEGASUS', 'T5-Paraphrase', 'BART-Paraphrase'],\n",
    "            [metrics['pegasus']['avg_sim_to_original'],\n",
    "             metrics['t5_paraphrase']['avg_sim_to_original'],\n",
    "             metrics['bart_paraphrase']['avg_sim_to_original']],\n",
    "            color='lightcoral')\n",
    "    ax2.set_title('Average Similarity to Original')\n",
    "\n",
    "    plt.suptitle(title, fontsize=14)\n",
    "    plt.tight_layout(rect=[0, 0, 1, 0.95])\n",
    "    plt.show()\n",
    "\n",
    "# Suppress warnings for this block only\n",
    "with warnings.catch_warnings():\n",
    "    warnings.simplefilter(\"ignore\")\n",
    "\n",
    "    # Plot paraphrasing comparison for first sentence of first text\n",
    "    first_sentence = re.split(r'[.!?]+', first_text)[0].strip()\n",
    "    plot_enhanced_paraphrasing_comparison(\n",
    "        compare_paraphrasers_enhanced(first_sentence),\n",
    "        title=\"Paraphrasing Comparison (Alice in Wonderland Sentence)\"\n",
    "    )"
   ]
  },
  {
   "cell_type": "code",
   "execution_count": 20,
   "metadata": {
    "colab": {
     "base_uri": "https://localhost:8080/"
    },
    "id": "GkASdMRTp6E6",
    "outputId": "8a5e3691-ebea-453d-8f66-b47a217db29f"
   },
   "outputs": [
    {
     "name": "stdout",
     "output_type": "stream",
     "text": [
      "\n",
      "Bigram Analysis\n",
      "\n",
      "Text 1:\n",
      "Top Bigrams: [('it, and', 4), ('out of', 3), ('CHAPTER I.', 2), ('I. Down', 2), ('Down the', 2)]\n",
      "\n",
      "Text 2:\n",
      "Top Bigrams: [('was the', 7), ('it was', 6), ('CHAPTER I', 3), ('CHAPTER II', 3), ('CHAPTER III', 3)]\n"
     ]
    }
   ],
   "source": [
    "#Bigram Analysis\n",
    "def analyze_bigrams(text):\n",
    "    \"\"\"Compute top bigrams using string splitting.\"\"\"\n",
    "    text = clean_text(text[:2000])  # Clean and limit for performance\n",
    "    words = text.split()\n",
    "    bigrams = [(words[i], words[i+1]) for i in range(len(words)-1)]\n",
    "    bigram_freq = Counter(bigrams).most_common(5)\n",
    "    return [(f\"{w1} {w2}\", count) for (w1, w2), count in bigram_freq]\n",
    "\n",
    "print(\"\\nBigram Analysis\")\n",
    "for key, data in loaded_texts.items():\n",
    "    print(f\"\\n{key}:\")\n",
    "    bigrams = analyze_bigrams(data['text'])\n",
    "    print(f\"Top Bigrams: {bigrams}\")"
   ]
  },
  {
   "cell_type": "code",
   "execution_count": 21,
   "metadata": {
    "colab": {
     "base_uri": "https://localhost:8080/",
     "height": 615
    },
    "id": "TXok4ioyp9rn",
    "outputId": "0068350e-87eb-45d9-e624-f1736b18670a"
   },
   "outputs": [
    {
     "data": {
      "image/png": "[encoded data removed]",
      "text/plain": [
       "<Figure size 800x400 with 1 Axes>"
      ]
     },
     "metadata": {},
     "output_type": "display_data"
    },
    {
     "data": {
      "image/png": "[encoded data removed]",
      "text/plain": [
       "<Figure size 800x400 with 1 Axes>"
      ]
     },
     "metadata": {},
     "output_type": "display_data"
    }
   ],
   "source": [
    "#Bigram Visualization\n",
    "#Visualize Bigram Frequencies\n",
    "def plot_bigrams(bigrams, title=\"Top Bigrams\"):\n",
    "    \"\"\"Plot top bigrams.\"\"\"\n",
    "    if bigrams:\n",
    "        labels, counts = zip(*bigrams)\n",
    "        plt.figure(figsize=(8, 4))\n",
    "        plt.bar(labels, counts, color='teal')\n",
    "        plt.title(title, fontsize=12)\n",
    "        plt.xticks(rotation=45)\n",
    "        plt.tight_layout()\n",
    "        plt.show()\n",
    "\n",
    "for key, data in loaded_texts.items():\n",
    "    bigrams = analyze_bigrams(data['text'])\n",
    "    plot_bigrams(bigrams, title=f\"Top Bigrams ({key})\")"
   ]
  }
 ],
 "metadata": {
  "colab": {
   "provenance": []
  },
  "kernelspec": {
   "display_name": "Python 3",
   "name": "python3"
  },
  "language_info": {
   "name": "python"
  }
 },
 "nbformat": 4,
 "nbformat_minor": 0
}
